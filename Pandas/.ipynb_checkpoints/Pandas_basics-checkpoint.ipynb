{
 "cells": [
  {
   "cell_type": "markdown",
   "id": "a186d63d-383a-4e27-982f-fe8d0e1755dd",
   "metadata": {},
   "source": [
    "# Pandas\n",
    "##### software library in python for data manipulation and analysis\n",
    "##### offers data structures and operations for manipulating numerical tables and time series\n",
    "### Pandas main data structures\n",
    "##### 1. Dataframes-----excel file or tabular data\n",
    "##### 2. Series-----single colunm and row of a table---the data is arranged in 1-D array\n",
    "#####               in series we can set index for dataframe\n",
    "                    "
   ]
  },
  {
   "cell_type": "markdown",
   "id": "ddd1d49b-fe80-491a-b22f-d93a86969f00",
   "metadata": {},
   "source": [
    "# Series\n",
    "### Syntax \n",
    "##### series_obj=pd.Series( dataobject,[index] ) --------- index is optional"
   ]
  },
  {
   "cell_type": "markdown",
   "id": "8f8f98ce-b86a-49d6-8100-4a34b4820dac",
   "metadata": {},
   "source": [
    "#### 1. from scalar values"
   ]
  },
  {
   "cell_type": "code",
   "execution_count": 4,
   "id": "e5c40fe7-be70-4ec8-b5ba-7b0f21af036b",
   "metadata": {},
   "outputs": [
    {
     "name": "stdout",
     "output_type": "stream",
     "text": [
      "0    1\n",
      "1    2\n",
      "2    3\n",
      "dtype: int64\n"
     ]
    }
   ],
   "source": [
    "import pandas as pd \n",
    "s1=pd.Series([1,2,3])\n",
    "print(s1)"
   ]
  },
  {
   "cell_type": "code",
   "execution_count": 5,
   "id": "a192771c-d8a0-4219-9c3f-28b900b572c0",
   "metadata": {},
   "outputs": [
    {
     "name": "stdout",
     "output_type": "stream",
     "text": [
      "a    1\n",
      "b    2\n",
      "c    3\n",
      "dtype: int64\n"
     ]
    }
   ],
   "source": [
    "s2=pd.Series([1,2,3],index=['a','b','c'])\n",
    "print(s2)"
   ]
  },
  {
   "cell_type": "markdown",
   "id": "48c85e89-d437-4789-beca-a5d1f53f0e39",
   "metadata": {},
   "source": [
    "#### 2. from dictionary"
   ]
  },
  {
   "cell_type": "code",
   "execution_count": 6,
   "id": "6f03745f-b4d3-4324-92f2-f58f55f916fc",
   "metadata": {},
   "outputs": [
    {
     "name": "stdout",
     "output_type": "stream",
     "text": [
      "1    a\n",
      "2    b\n",
      "3    c\n",
      "dtype: object\n"
     ]
    }
   ],
   "source": [
    "s3=pd.Series({1:'a',2:'b',3:'c'})\n",
    "print(s3)"
   ]
  },
  {
   "cell_type": "markdown",
   "id": "ef96d988-bb9c-47e2-bd89-8d00a920b97c",
   "metadata": {},
   "source": [
    "#### 3. from numpy"
   ]
  },
  {
   "cell_type": "code",
   "execution_count": 8,
   "id": "d735db09-62ed-446b-8498-c52f7fd5eef2",
   "metadata": {},
   "outputs": [
    {
     "name": "stdout",
     "output_type": "stream",
     "text": [
      "0    3\n",
      "1    5\n",
      "2    7\n",
      "dtype: int64\n"
     ]
    }
   ],
   "source": [
    "import numpy as np\n",
    "a=np.array([3,5,7])\n",
    "s=pd.Series(a)\n",
    "print(s)"
   ]
  },
  {
   "cell_type": "code",
   "execution_count": 11,
   "id": "d311a5d1-0acd-4f08-9c0a-039171a0e1fe",
   "metadata": {},
   "outputs": [
    {
     "name": "stdout",
     "output_type": "stream",
     "text": [
      "!    3\n",
      "@    5\n",
      "#    7\n",
      "dtype: int64\n"
     ]
    }
   ],
   "source": [
    "import numpy as np\n",
    "a=np.array([3,5,7])\n",
    "s=pd.Series(a,index=['!','@','#'])\n",
    "print(s)"
   ]
  },
  {
   "cell_type": "markdown",
   "id": "5f6fd391-a39e-4147-ab15-3c767ecdf3c1",
   "metadata": {},
   "source": [
    "## Accessing elements of Series"
   ]
  },
  {
   "cell_type": "markdown",
   "id": "c2f9567b-5665-44b9-8c35-49e5a205d3b2",
   "metadata": {},
   "source": [
    "### Indexing \n",
    "#### 1.positional indexing --> accessing element based on position\n",
    "#### 2.labelled indexing --> accessing element based on the index"
   ]
  },
  {
   "cell_type": "code",
   "execution_count": 19,
   "id": "e325a562-c0c5-4933-a2b4-5b18530a6db7",
   "metadata": {},
   "outputs": [
    {
     "name": "stdout",
     "output_type": "stream",
     "text": [
      "a    1\n",
      "b    2\n",
      "c    3\n",
      "dtype: int64\n",
      "2\n",
      "2\n"
     ]
    },
    {
     "name": "stderr",
     "output_type": "stream",
     "text": [
      "/tmp/ipykernel_375676/1496691751.py:3: FutureWarning: Series.__getitem__ treating keys as positions is deprecated. In a future version, integer keys will always be treated as labels (consistent with DataFrame behavior). To access a value by position, use `ser.iloc[pos]`\n",
      "  print(s2[1])    # print(s2.iloc[1])\n"
     ]
    }
   ],
   "source": [
    "s2=pd.Series([1,2,3],index=['a','b','c'])\n",
    "print(s2)\n",
    "print(s2[1])    # print(s2.iloc[1])\n",
    "print(s2['b'])"
   ]
  },
  {
   "cell_type": "markdown",
   "id": "d53c940f-8f47-4e91-b7a9-a89111454ca0",
   "metadata": {},
   "source": [
    "### Slicing\n",
    "#### positional --> excludes last element\n",
    "#### labelled --> includes last element"
   ]
  },
  {
   "cell_type": "code",
   "execution_count": 21,
   "id": "b66ca0c9-e051-43a4-8537-72b19c0e2d11",
   "metadata": {},
   "outputs": [
    {
     "name": "stdout",
     "output_type": "stream",
     "text": [
      "a    10\n",
      "b    20\n",
      "dtype: int64\n",
      "a    10\n",
      "b    20\n",
      "c    30\n",
      "dtype: int64\n"
     ]
    }
   ],
   "source": [
    "s2=pd.Series([10,20,30,40,50],index=['a','b','c','d','e'])\n",
    "print(s2[0:2])\n",
    "print(s2['a':'c'])"
   ]
  },
  {
   "cell_type": "markdown",
   "id": "be9e7f2c-3df5-4797-9e68-a9a7f9825a0d",
   "metadata": {},
   "source": [
    "## Attributes of Series\n",
    "#### name  --> assign name to series\n",
    "#### index.name --> can assign colunm name\n",
    "#### size --> gives the size of the array \n",
    "#### empty --> returns True if array is empty\n",
    "#### values --> prints only values without index"
   ]
  },
  {
   "cell_type": "code",
   "execution_count": 32,
   "id": "7ffd4b02-f04c-4b59-9a7b-f75f8d9432c2",
   "metadata": {},
   "outputs": [
    {
     "name": "stdout",
     "output_type": "stream",
     "text": [
      "0     [1, 2, 3, 4, 5]\n",
      "1    [6, 7, 8, 9, 10]\n",
      "2                  11\n",
      "dtype: object\n"
     ]
    }
   ],
   "source": [
    "s2=pd.Series([[1,2,3,4,5],[6,7,8,9,10],11])\n",
    "print(s2)"
   ]
  },
  {
   "cell_type": "code",
   "execution_count": 33,
   "id": "151b4bb1-40eb-470d-89dd-f81f737061b6",
   "metadata": {},
   "outputs": [
    {
     "data": {
      "text/plain": [
       "0     [1, 2, 3, 4, 5]\n",
       "1    [6, 7, 8, 9, 10]\n",
       "2                  11\n",
       "Name: Marks, dtype: object"
      ]
     },
     "execution_count": 33,
     "metadata": {},
     "output_type": "execute_result"
    }
   ],
   "source": [
    "s2.name='Marks'\n",
    "s2"
   ]
  },
  {
   "cell_type": "code",
   "execution_count": 34,
   "id": "eb6f334e-26b1-4bf8-9ffe-480ccee98fa8",
   "metadata": {},
   "outputs": [
    {
     "data": {
      "text/plain": [
       "roll no\n",
       "0     [1, 2, 3, 4, 5]\n",
       "1    [6, 7, 8, 9, 10]\n",
       "2                  11\n",
       "Name: Marks, dtype: object"
      ]
     },
     "execution_count": 34,
     "metadata": {},
     "output_type": "execute_result"
    }
   ],
   "source": [
    "s2.index.name='roll no'\n",
    "s2"
   ]
  },
  {
   "cell_type": "code",
   "execution_count": 35,
   "id": "53445622-ee50-42e6-b41d-92f6e00ebcb9",
   "metadata": {},
   "outputs": [
    {
     "data": {
      "text/plain": [
       "3"
      ]
     },
     "execution_count": 35,
     "metadata": {},
     "output_type": "execute_result"
    }
   ],
   "source": [
    "s2.size"
   ]
  },
  {
   "cell_type": "code",
   "execution_count": 36,
   "id": "019e818d-dcab-493c-80a5-6ef2f2ae8c75",
   "metadata": {},
   "outputs": [
    {
     "data": {
      "text/plain": [
       "False"
      ]
     },
     "execution_count": 36,
     "metadata": {},
     "output_type": "execute_result"
    }
   ],
   "source": [
    "s2.empty"
   ]
  },
  {
   "cell_type": "code",
   "execution_count": 37,
   "id": "91d7a1ed-18ba-4f6a-9235-4e9d4495ac68",
   "metadata": {},
   "outputs": [
    {
     "data": {
      "text/plain": [
       "array([list([1, 2, 3, 4, 5]), list([6, 7, 8, 9, 10]), 11], dtype=object)"
      ]
     },
     "execution_count": 37,
     "metadata": {},
     "output_type": "execute_result"
    }
   ],
   "source": [
    "s2.values"
   ]
  },
  {
   "cell_type": "markdown",
   "id": "ffa9b78f-ac9e-4edd-9e89-1253f6688c3b",
   "metadata": {},
   "source": [
    "## Methods of Series\n",
    "#### head(n) --> prints first n values --> by default first 5 values\n",
    "#### tail(n) --> prints last n values --> by default last 5 values\n",
    "#### count() --> count no of values"
   ]
  },
  {
   "cell_type": "code",
   "execution_count": 38,
   "id": "4ed4d15b-3ef1-4c94-87df-ab15885ee212",
   "metadata": {},
   "outputs": [
    {
     "data": {
      "text/plain": [
       "roll no\n",
       "0    [1, 2, 3, 4, 5]\n",
       "Name: Marks, dtype: object"
      ]
     },
     "execution_count": 38,
     "metadata": {},
     "output_type": "execute_result"
    }
   ],
   "source": [
    "s2.head(1)"
   ]
  },
  {
   "cell_type": "code",
   "execution_count": 41,
   "id": "c82cfb51-1764-4844-8bef-f1944fbedf75",
   "metadata": {},
   "outputs": [
    {
     "data": {
      "text/plain": [
       "roll no\n",
       "0    [1, 2, 3, 4, 5]\n",
       "Name: Marks, dtype: object"
      ]
     },
     "execution_count": 41,
     "metadata": {},
     "output_type": "execute_result"
    }
   ],
   "source": [
    "s2.head(-2)"
   ]
  },
  {
   "cell_type": "code",
   "execution_count": 42,
   "id": "e547c3e9-b5ae-4f85-a085-4701c4364b7e",
   "metadata": {},
   "outputs": [
    {
     "data": {
      "text/plain": [
       "roll no\n",
       "0     [1, 2, 3, 4, 5]\n",
       "1    [6, 7, 8, 9, 10]\n",
       "Name: Marks, dtype: object"
      ]
     },
     "execution_count": 42,
     "metadata": {},
     "output_type": "execute_result"
    }
   ],
   "source": [
    "s2.head(-1)"
   ]
  },
  {
   "cell_type": "code",
   "execution_count": 43,
   "id": "162106ef-c0f9-45ea-81e9-f355b5e7029a",
   "metadata": {},
   "outputs": [
    {
     "data": {
      "text/plain": [
       "roll no\n",
       "0     [1, 2, 3, 4, 5]\n",
       "1    [6, 7, 8, 9, 10]\n",
       "2                  11\n",
       "Name: Marks, dtype: object"
      ]
     },
     "execution_count": 43,
     "metadata": {},
     "output_type": "execute_result"
    }
   ],
   "source": [
    "s2.head()"
   ]
  },
  {
   "cell_type": "code",
   "execution_count": 44,
   "id": "4998a86f-942e-48c9-910e-06908c27e12a",
   "metadata": {},
   "outputs": [
    {
     "data": {
      "text/plain": [
       "roll no\n",
       "2    11\n",
       "Name: Marks, dtype: object"
      ]
     },
     "execution_count": 44,
     "metadata": {},
     "output_type": "execute_result"
    }
   ],
   "source": [
    "s2.tail(1)"
   ]
  },
  {
   "cell_type": "code",
   "execution_count": 45,
   "id": "aaccefa3-8384-4055-96f6-16f5b7c59119",
   "metadata": {},
   "outputs": [
    {
     "data": {
      "text/plain": [
       "roll no\n",
       "1    [6, 7, 8, 9, 10]\n",
       "2                  11\n",
       "Name: Marks, dtype: object"
      ]
     },
     "execution_count": 45,
     "metadata": {},
     "output_type": "execute_result"
    }
   ],
   "source": [
    "s2.tail(-1)"
   ]
  },
  {
   "cell_type": "code",
   "execution_count": 46,
   "id": "33a2e132-3116-492a-bc7f-6a780b899725",
   "metadata": {},
   "outputs": [
    {
     "data": {
      "text/plain": [
       "roll no\n",
       "2    11\n",
       "Name: Marks, dtype: object"
      ]
     },
     "execution_count": 46,
     "metadata": {},
     "output_type": "execute_result"
    }
   ],
   "source": [
    "s2.tail(-2)"
   ]
  },
  {
   "cell_type": "code",
   "execution_count": 47,
   "id": "e013cd5e-1940-4af0-8bc4-32bc895e7a6b",
   "metadata": {},
   "outputs": [
    {
     "data": {
      "text/plain": [
       "roll no\n",
       "0     [1, 2, 3, 4, 5]\n",
       "1    [6, 7, 8, 9, 10]\n",
       "2                  11\n",
       "Name: Marks, dtype: object"
      ]
     },
     "execution_count": 47,
     "metadata": {},
     "output_type": "execute_result"
    }
   ],
   "source": [
    "s2.tail()"
   ]
  },
  {
   "cell_type": "code",
   "execution_count": 48,
   "id": "f17b1de1-1685-4fb4-8172-779c5ff946d9",
   "metadata": {},
   "outputs": [
    {
     "data": {
      "text/plain": [
       "3"
      ]
     },
     "execution_count": 48,
     "metadata": {},
     "output_type": "execute_result"
    }
   ],
   "source": [
    "s2.count()"
   ]
  },
  {
   "cell_type": "markdown",
   "id": "56aeb319-a206-4bd1-a507-ac891a558667",
   "metadata": {},
   "source": [
    "## Mathematical operations"
   ]
  },
  {
   "cell_type": "code",
   "execution_count": 55,
   "id": "286bad07-980e-4ad8-b397-ce3ec1b50b6a",
   "metadata": {},
   "outputs": [
    {
     "data": {
      "text/plain": [
       "2     NaN\n",
       "4    13.0\n",
       "5     NaN\n",
       "a     7.0\n",
       "b     NaN\n",
       "c    11.0\n",
       "e     NaN\n",
       "dtype: float64"
      ]
     },
     "execution_count": 55,
     "metadata": {},
     "output_type": "execute_result"
    }
   ],
   "source": [
    "#add performed for same index , NaN is printed for non-matching indexes\n",
    "a=pd.Series([1,2,3,4,15],index=['a',2,'c',4,'e'])\n",
    "b=pd.Series([6,7,8,9,10],index=['a','b','c',4,5])\n",
    "a+b"
   ]
  },
  {
   "cell_type": "code",
   "execution_count": 56,
   "id": "7fef1263-9416-4e3b-876b-6b710179952a",
   "metadata": {},
   "outputs": [
    {
     "data": {
      "text/plain": [
       "2     5.0\n",
       "4    13.0\n",
       "5    13.0\n",
       "a     7.0\n",
       "b    10.0\n",
       "c    11.0\n",
       "e    18.0\n",
       "dtype: float64"
      ]
     },
     "execution_count": 56,
     "metadata": {},
     "output_type": "execute_result"
    }
   ],
   "source": [
    "a.add(b,fill_value=3) # missing value is replaced with 3 and then add is performed"
   ]
  },
  {
   "cell_type": "code",
   "execution_count": 57,
   "id": "ff9e14ca-1099-4c2a-8e27-284cd8984972",
   "metadata": {},
   "outputs": [
    {
     "data": {
      "text/plain": [
       "2    NaN\n",
       "4   -5.0\n",
       "5    NaN\n",
       "a   -5.0\n",
       "b    NaN\n",
       "c   -5.0\n",
       "e    NaN\n",
       "dtype: float64"
      ]
     },
     "execution_count": 57,
     "metadata": {},
     "output_type": "execute_result"
    }
   ],
   "source": [
    "a-b # a.sub(b) is also same"
   ]
  },
  {
   "cell_type": "markdown",
   "id": "319577d2-e58e-4af8-805c-3840c4473313",
   "metadata": {},
   "source": [
    "# Dataframes\n",
    "### can be created in 4 ways\n",
    "#### 1. from ndarray\n",
    "#### 2. list of dicts\n",
    "#### 3. dict of lists\n",
    "#### 4. from Series"
   ]
  },
  {
   "cell_type": "markdown",
   "id": "ec4b9ace-5f6a-4d8a-89a7-777ff16564b2",
   "metadata": {},
   "source": [
    "#### 1. from ndarray"
   ]
  },
  {
   "cell_type": "code",
   "execution_count": 71,
   "id": "71245d16-d090-4038-aed5-d90ee1c75ce7",
   "metadata": {},
   "outputs": [
    {
     "data": {
      "text/html": [
       "<div>\n",
       "<style scoped>\n",
       "    .dataframe tbody tr th:only-of-type {\n",
       "        vertical-align: middle;\n",
       "    }\n",
       "\n",
       "    .dataframe tbody tr th {\n",
       "        vertical-align: top;\n",
       "    }\n",
       "\n",
       "    .dataframe thead th {\n",
       "        text-align: right;\n",
       "    }\n",
       "</style>\n",
       "<table border=\"1\" class=\"dataframe\">\n",
       "  <thead>\n",
       "    <tr style=\"text-align: right;\">\n",
       "      <th></th>\n",
       "      <th>0</th>\n",
       "      <th>1</th>\n",
       "      <th>2</th>\n",
       "      <th>3</th>\n",
       "      <th>4</th>\n",
       "    </tr>\n",
       "  </thead>\n",
       "  <tbody>\n",
       "    <tr>\n",
       "      <th>0</th>\n",
       "      <td>1</td>\n",
       "      <td>2</td>\n",
       "      <td>3</td>\n",
       "      <td>4</td>\n",
       "      <td>5</td>\n",
       "    </tr>\n",
       "    <tr>\n",
       "      <th>1</th>\n",
       "      <td>6</td>\n",
       "      <td>7</td>\n",
       "      <td>8</td>\n",
       "      <td>9</td>\n",
       "      <td>10</td>\n",
       "    </tr>\n",
       "    <tr>\n",
       "      <th>2</th>\n",
       "      <td>11</td>\n",
       "      <td>12</td>\n",
       "      <td>13</td>\n",
       "      <td>14</td>\n",
       "      <td>15</td>\n",
       "    </tr>\n",
       "  </tbody>\n",
       "</table>\n",
       "</div>"
      ],
      "text/plain": [
       "    0   1   2   3   4\n",
       "0   1   2   3   4   5\n",
       "1   6   7   8   9  10\n",
       "2  11  12  13  14  15"
      ]
     },
     "execution_count": 71,
     "metadata": {},
     "output_type": "execute_result"
    }
   ],
   "source": [
    "s2=np.array([[1,2,3,4,5],[6,7,8,9,10],[11,12,13,14,15]])\n",
    "pd.DataFrame(s2)"
   ]
  },
  {
   "cell_type": "markdown",
   "id": "9d32879a-c16a-43b2-bbdb-b69597563d12",
   "metadata": {},
   "source": [
    "#### 2. list of dicts"
   ]
  },
  {
   "cell_type": "code",
   "execution_count": 82,
   "id": "86b60f92-de27-429f-a4b0-3f605b24fedd",
   "metadata": {},
   "outputs": [
    {
     "data": {
      "text/html": [
       "<div>\n",
       "<style scoped>\n",
       "    .dataframe tbody tr th:only-of-type {\n",
       "        vertical-align: middle;\n",
       "    }\n",
       "\n",
       "    .dataframe tbody tr th {\n",
       "        vertical-align: top;\n",
       "    }\n",
       "\n",
       "    .dataframe thead th {\n",
       "        text-align: right;\n",
       "    }\n",
       "</style>\n",
       "<table border=\"1\" class=\"dataframe\">\n",
       "  <thead>\n",
       "    <tr style=\"text-align: right;\">\n",
       "      <th></th>\n",
       "      <th>1</th>\n",
       "      <th>2</th>\n",
       "      <th>4</th>\n",
       "      <th>7</th>\n",
       "    </tr>\n",
       "  </thead>\n",
       "  <tbody>\n",
       "    <tr>\n",
       "      <th>0</th>\n",
       "      <td>a</td>\n",
       "      <td>b</td>\n",
       "      <td>NaN</td>\n",
       "      <td>NaN</td>\n",
       "    </tr>\n",
       "    <tr>\n",
       "      <th>1</th>\n",
       "      <td>c</td>\n",
       "      <td>NaN</td>\n",
       "      <td>d</td>\n",
       "      <td>e</td>\n",
       "    </tr>\n",
       "  </tbody>\n",
       "</table>\n",
       "</div>"
      ],
      "text/plain": [
       "   1    2    4    7\n",
       "0  a    b  NaN  NaN\n",
       "1  c  NaN    d    e"
      ]
     },
     "execution_count": 82,
     "metadata": {},
     "output_type": "execute_result"
    }
   ],
   "source": [
    "l=[{1:'a',2:'b'},{1:'c',4:'d',7:'e'}]\n",
    "pd.DataFrame(l)"
   ]
  },
  {
   "cell_type": "markdown",
   "id": "f06071a8-9e9c-4dab-8571-ca3014caf755",
   "metadata": {},
   "source": [
    "#### 3.dict of lists"
   ]
  },
  {
   "cell_type": "code",
   "execution_count": 84,
   "id": "ff34f377-c6fa-4253-8eea-096235b1bb84",
   "metadata": {},
   "outputs": [
    {
     "data": {
      "text/html": [
       "<div>\n",
       "<style scoped>\n",
       "    .dataframe tbody tr th:only-of-type {\n",
       "        vertical-align: middle;\n",
       "    }\n",
       "\n",
       "    .dataframe tbody tr th {\n",
       "        vertical-align: top;\n",
       "    }\n",
       "\n",
       "    .dataframe thead th {\n",
       "        text-align: right;\n",
       "    }\n",
       "</style>\n",
       "<table border=\"1\" class=\"dataframe\">\n",
       "  <thead>\n",
       "    <tr style=\"text-align: right;\">\n",
       "      <th></th>\n",
       "      <th>1</th>\n",
       "      <th>2</th>\n",
       "      <th>3</th>\n",
       "    </tr>\n",
       "  </thead>\n",
       "  <tbody>\n",
       "    <tr>\n",
       "      <th>0</th>\n",
       "      <td>a</td>\n",
       "      <td>c</td>\n",
       "      <td>e</td>\n",
       "    </tr>\n",
       "    <tr>\n",
       "      <th>1</th>\n",
       "      <td>b</td>\n",
       "      <td>d</td>\n",
       "      <td>c</td>\n",
       "    </tr>\n",
       "  </tbody>\n",
       "</table>\n",
       "</div>"
      ],
      "text/plain": [
       "   1  2  3\n",
       "0  a  c  e\n",
       "1  b  d  c"
      ]
     },
     "execution_count": 84,
     "metadata": {},
     "output_type": "execute_result"
    }
   ],
   "source": [
    "d={1:['a','b'],2:['c','d'],3:['e','c']} # arrays must be of same length\n",
    "pd.DataFrame(d)"
   ]
  },
  {
   "cell_type": "code",
   "execution_count": 85,
   "id": "e0c4ac2e-aaf7-4b8f-b859-f7db43335042",
   "metadata": {},
   "outputs": [
    {
     "data": {
      "text/html": [
       "<div>\n",
       "<style scoped>\n",
       "    .dataframe tbody tr th:only-of-type {\n",
       "        vertical-align: middle;\n",
       "    }\n",
       "\n",
       "    .dataframe tbody tr th {\n",
       "        vertical-align: top;\n",
       "    }\n",
       "\n",
       "    .dataframe thead th {\n",
       "        text-align: right;\n",
       "    }\n",
       "</style>\n",
       "<table border=\"1\" class=\"dataframe\">\n",
       "  <thead>\n",
       "    <tr style=\"text-align: right;\">\n",
       "      <th></th>\n",
       "      <th>1</th>\n",
       "      <th>2</th>\n",
       "    </tr>\n",
       "  </thead>\n",
       "  <tbody>\n",
       "    <tr>\n",
       "      <th>0</th>\n",
       "      <td>c</td>\n",
       "      <td>e</td>\n",
       "    </tr>\n",
       "    <tr>\n",
       "      <th>1</th>\n",
       "      <td>d</td>\n",
       "      <td>c</td>\n",
       "    </tr>\n",
       "  </tbody>\n",
       "</table>\n",
       "</div>"
      ],
      "text/plain": [
       "   1  2\n",
       "0  c  e\n",
       "1  d  c"
      ]
     },
     "execution_count": 85,
     "metadata": {},
     "output_type": "execute_result"
    }
   ],
   "source": [
    "d={1:['a','b'],1:['c','d'],2:['e','c']} # arrays must be of same length\n",
    "pd.DataFrame(d)"
   ]
  },
  {
   "cell_type": "markdown",
   "id": "0fb1950f-de5d-4dc0-96fa-cbaf3f2e8326",
   "metadata": {},
   "source": [
    "#### 4.from Series"
   ]
  },
  {
   "cell_type": "code",
   "execution_count": 86,
   "id": "14cc459a-7e02-4bbd-bd74-2b1ee0a7efcf",
   "metadata": {},
   "outputs": [
    {
     "data": {
      "text/html": [
       "<div>\n",
       "<style scoped>\n",
       "    .dataframe tbody tr th:only-of-type {\n",
       "        vertical-align: middle;\n",
       "    }\n",
       "\n",
       "    .dataframe tbody tr th {\n",
       "        vertical-align: top;\n",
       "    }\n",
       "\n",
       "    .dataframe thead th {\n",
       "        text-align: right;\n",
       "    }\n",
       "</style>\n",
       "<table border=\"1\" class=\"dataframe\">\n",
       "  <thead>\n",
       "    <tr style=\"text-align: right;\">\n",
       "      <th></th>\n",
       "      <th>a</th>\n",
       "      <th>2</th>\n",
       "      <th>c</th>\n",
       "      <th>4</th>\n",
       "      <th>e</th>\n",
       "      <th>b</th>\n",
       "      <th>5</th>\n",
       "    </tr>\n",
       "  </thead>\n",
       "  <tbody>\n",
       "    <tr>\n",
       "      <th>0</th>\n",
       "      <td>1.0</td>\n",
       "      <td>2.0</td>\n",
       "      <td>3.0</td>\n",
       "      <td>4.0</td>\n",
       "      <td>15.0</td>\n",
       "      <td>NaN</td>\n",
       "      <td>NaN</td>\n",
       "    </tr>\n",
       "    <tr>\n",
       "      <th>1</th>\n",
       "      <td>6.0</td>\n",
       "      <td>NaN</td>\n",
       "      <td>8.0</td>\n",
       "      <td>9.0</td>\n",
       "      <td>NaN</td>\n",
       "      <td>7.0</td>\n",
       "      <td>10.0</td>\n",
       "    </tr>\n",
       "  </tbody>\n",
       "</table>\n",
       "</div>"
      ],
      "text/plain": [
       "     a    2    c    4     e    b     5\n",
       "0  1.0  2.0  3.0  4.0  15.0  NaN   NaN\n",
       "1  6.0  NaN  8.0  9.0   NaN  7.0  10.0"
      ]
     },
     "execution_count": 86,
     "metadata": {},
     "output_type": "execute_result"
    }
   ],
   "source": [
    "a=pd.Series([1,2,3,4,15],index=['a',2,'c',4,'e'])\n",
    "b=pd.Series([6,7,8,9,10],index=['a','b','c',4,5])\n",
    "pd.DataFrame([a,b])"
   ]
  },
  {
   "cell_type": "markdown",
   "id": "c3409ddc-0676-4b3a-b078-36bf2e9e6a2c",
   "metadata": {},
   "source": [
    "### Operations"
   ]
  },
  {
   "cell_type": "code",
   "execution_count": null,
   "id": "d3698e6a-2ddb-4cb2-a926-4e0a38df6187",
   "metadata": {},
   "outputs": [],
   "source": []
  }
 ],
 "metadata": {
  "kernelspec": {
   "display_name": "Python 3 (ipykernel)",
   "language": "python",
   "name": "python3"
  },
  "language_info": {
   "codemirror_mode": {
    "name": "ipython",
    "version": 3
   },
   "file_extension": ".py",
   "mimetype": "text/x-python",
   "name": "python",
   "nbconvert_exporter": "python",
   "pygments_lexer": "ipython3",
   "version": "3.10.12"
  }
 },
 "nbformat": 4,
 "nbformat_minor": 5
}

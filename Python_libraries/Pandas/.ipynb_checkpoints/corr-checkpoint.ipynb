{
 "cells": [
  {
   "cell_type": "markdown",
   "id": "f7ae18cd-2895-4e6d-bcf7-30429d9c5dd7",
   "metadata": {},
   "source": [
    "### corr() --- works only on numerical data\n",
    "* used to calculate the pairwise correlation between columns in a DataFrame\n",
    "#### parameters are -\n",
    "* min_periods - min no of observations required per pair of columns to have a valid result\n",
    "* numeric_only=True - returns only numeric values(by default False)"
   ]
  },
  {
   "cell_type": "code",
   "execution_count": null,
   "id": "4a85d679-5588-437c-965c-60f1b5309e0e",
   "metadata": {},
   "outputs": [],
   "source": [
    "import numpy as np\n",
    "import pandas as pd"
   ]
  },
  {
   "cell_type": "code",
   "execution_count": 2,
   "id": "9c5994af-0672-4137-b9a7-ac8bd16a161d",
   "metadata": {},
   "outputs": [],
   "source": [
    "match=pd.read_csv('matches.csv')"
   ]
  },
  {
   "cell_type": "code",
   "execution_count": 5,
   "id": "dbaf57b4-d20b-4962-a12f-8529d166389c",
   "metadata": {},
   "outputs": [],
   "source": [
    "match1=match[['id','season','dl_applied','win_by_runs','win_by_wickets','umpire3']]"
   ]
  },
  {
   "cell_type": "code",
   "execution_count": 6,
   "id": "83579499-0efb-4a96-93ca-ccc4b9c50454",
   "metadata": {},
   "outputs": [
    {
     "data": {
      "text/html": [
       "<div>\n",
       "<style scoped>\n",
       "    .dataframe tbody tr th:only-of-type {\n",
       "        vertical-align: middle;\n",
       "    }\n",
       "\n",
       "    .dataframe tbody tr th {\n",
       "        vertical-align: top;\n",
       "    }\n",
       "\n",
       "    .dataframe thead th {\n",
       "        text-align: right;\n",
       "    }\n",
       "</style>\n",
       "<table border=\"1\" class=\"dataframe\">\n",
       "  <thead>\n",
       "    <tr style=\"text-align: right;\">\n",
       "      <th></th>\n",
       "      <th>id</th>\n",
       "      <th>season</th>\n",
       "      <th>dl_applied</th>\n",
       "      <th>win_by_runs</th>\n",
       "      <th>win_by_wickets</th>\n",
       "      <th>umpire3</th>\n",
       "    </tr>\n",
       "  </thead>\n",
       "  <tbody>\n",
       "    <tr>\n",
       "      <th>id</th>\n",
       "      <td>1.000000</td>\n",
       "      <td>0.471087</td>\n",
       "      <td>0.024281</td>\n",
       "      <td>-0.010263</td>\n",
       "      <td>-0.015510</td>\n",
       "      <td>NaN</td>\n",
       "    </tr>\n",
       "    <tr>\n",
       "      <th>season</th>\n",
       "      <td>0.471087</td>\n",
       "      <td>1.000000</td>\n",
       "      <td>0.004170</td>\n",
       "      <td>-0.016815</td>\n",
       "      <td>-0.000708</td>\n",
       "      <td>NaN</td>\n",
       "    </tr>\n",
       "    <tr>\n",
       "      <th>dl_applied</th>\n",
       "      <td>0.024281</td>\n",
       "      <td>0.004170</td>\n",
       "      <td>1.000000</td>\n",
       "      <td>-0.010893</td>\n",
       "      <td>-0.011640</td>\n",
       "      <td>NaN</td>\n",
       "    </tr>\n",
       "    <tr>\n",
       "      <th>win_by_runs</th>\n",
       "      <td>-0.010263</td>\n",
       "      <td>-0.016815</td>\n",
       "      <td>-0.010893</td>\n",
       "      <td>1.000000</td>\n",
       "      <td>-0.565181</td>\n",
       "      <td>NaN</td>\n",
       "    </tr>\n",
       "    <tr>\n",
       "      <th>win_by_wickets</th>\n",
       "      <td>-0.015510</td>\n",
       "      <td>-0.000708</td>\n",
       "      <td>-0.011640</td>\n",
       "      <td>-0.565181</td>\n",
       "      <td>1.000000</td>\n",
       "      <td>NaN</td>\n",
       "    </tr>\n",
       "    <tr>\n",
       "      <th>umpire3</th>\n",
       "      <td>NaN</td>\n",
       "      <td>NaN</td>\n",
       "      <td>NaN</td>\n",
       "      <td>NaN</td>\n",
       "      <td>NaN</td>\n",
       "      <td>NaN</td>\n",
       "    </tr>\n",
       "  </tbody>\n",
       "</table>\n",
       "</div>"
      ],
      "text/plain": [
       "                      id    season  dl_applied  win_by_runs  win_by_wickets  \\\n",
       "id              1.000000  0.471087    0.024281    -0.010263       -0.015510   \n",
       "season          0.471087  1.000000    0.004170    -0.016815       -0.000708   \n",
       "dl_applied      0.024281  0.004170    1.000000    -0.010893       -0.011640   \n",
       "win_by_runs    -0.010263 -0.016815   -0.010893     1.000000       -0.565181   \n",
       "win_by_wickets -0.015510 -0.000708   -0.011640    -0.565181        1.000000   \n",
       "umpire3              NaN       NaN         NaN          NaN             NaN   \n",
       "\n",
       "                umpire3  \n",
       "id                  NaN  \n",
       "season              NaN  \n",
       "dl_applied          NaN  \n",
       "win_by_runs         NaN  \n",
       "win_by_wickets      NaN  \n",
       "umpire3             NaN  "
      ]
     },
     "execution_count": 6,
     "metadata": {},
     "output_type": "execute_result"
    }
   ],
   "source": [
    "match1.corr()"
   ]
  },
  {
   "cell_type": "code",
   "execution_count": 16,
   "id": "e80dee8d-7d14-456d-815e-edd4930afa64",
   "metadata": {},
   "outputs": [
    {
     "data": {
      "text/html": [
       "<div>\n",
       "<style scoped>\n",
       "    .dataframe tbody tr th:only-of-type {\n",
       "        vertical-align: middle;\n",
       "    }\n",
       "\n",
       "    .dataframe tbody tr th {\n",
       "        vertical-align: top;\n",
       "    }\n",
       "\n",
       "    .dataframe thead th {\n",
       "        text-align: right;\n",
       "    }\n",
       "</style>\n",
       "<table border=\"1\" class=\"dataframe\">\n",
       "  <thead>\n",
       "    <tr style=\"text-align: right;\">\n",
       "      <th></th>\n",
       "      <th>id</th>\n",
       "      <th>season</th>\n",
       "      <th>dl_applied</th>\n",
       "      <th>win_by_runs</th>\n",
       "      <th>win_by_wickets</th>\n",
       "      <th>umpire3</th>\n",
       "    </tr>\n",
       "  </thead>\n",
       "  <tbody>\n",
       "    <tr>\n",
       "      <th>id</th>\n",
       "      <td>1.000000</td>\n",
       "      <td>0.471087</td>\n",
       "      <td>0.024281</td>\n",
       "      <td>-0.010263</td>\n",
       "      <td>-0.015510</td>\n",
       "      <td>NaN</td>\n",
       "    </tr>\n",
       "    <tr>\n",
       "      <th>season</th>\n",
       "      <td>0.471087</td>\n",
       "      <td>1.000000</td>\n",
       "      <td>0.004170</td>\n",
       "      <td>-0.016815</td>\n",
       "      <td>-0.000708</td>\n",
       "      <td>NaN</td>\n",
       "    </tr>\n",
       "    <tr>\n",
       "      <th>dl_applied</th>\n",
       "      <td>0.024281</td>\n",
       "      <td>0.004170</td>\n",
       "      <td>1.000000</td>\n",
       "      <td>-0.010893</td>\n",
       "      <td>-0.011640</td>\n",
       "      <td>NaN</td>\n",
       "    </tr>\n",
       "    <tr>\n",
       "      <th>win_by_runs</th>\n",
       "      <td>-0.010263</td>\n",
       "      <td>-0.016815</td>\n",
       "      <td>-0.010893</td>\n",
       "      <td>1.000000</td>\n",
       "      <td>-0.565181</td>\n",
       "      <td>NaN</td>\n",
       "    </tr>\n",
       "    <tr>\n",
       "      <th>win_by_wickets</th>\n",
       "      <td>-0.015510</td>\n",
       "      <td>-0.000708</td>\n",
       "      <td>-0.011640</td>\n",
       "      <td>-0.565181</td>\n",
       "      <td>1.000000</td>\n",
       "      <td>NaN</td>\n",
       "    </tr>\n",
       "    <tr>\n",
       "      <th>umpire3</th>\n",
       "      <td>NaN</td>\n",
       "      <td>NaN</td>\n",
       "      <td>NaN</td>\n",
       "      <td>NaN</td>\n",
       "      <td>NaN</td>\n",
       "      <td>NaN</td>\n",
       "    </tr>\n",
       "  </tbody>\n",
       "</table>\n",
       "</div>"
      ],
      "text/plain": [
       "                      id    season  dl_applied  win_by_runs  win_by_wickets  \\\n",
       "id              1.000000  0.471087    0.024281    -0.010263       -0.015510   \n",
       "season          0.471087  1.000000    0.004170    -0.016815       -0.000708   \n",
       "dl_applied      0.024281  0.004170    1.000000    -0.010893       -0.011640   \n",
       "win_by_runs    -0.010263 -0.016815   -0.010893     1.000000       -0.565181   \n",
       "win_by_wickets -0.015510 -0.000708   -0.011640    -0.565181        1.000000   \n",
       "umpire3              NaN       NaN         NaN          NaN             NaN   \n",
       "\n",
       "                umpire3  \n",
       "id                  NaN  \n",
       "season              NaN  \n",
       "dl_applied          NaN  \n",
       "win_by_runs         NaN  \n",
       "win_by_wickets      NaN  \n",
       "umpire3             NaN  "
      ]
     },
     "execution_count": 16,
     "metadata": {},
     "output_type": "execute_result"
    }
   ],
   "source": [
    "match.corr(numeric_only=True)"
   ]
  },
  {
   "cell_type": "code",
   "execution_count": 7,
   "id": "339eecb2-d46f-4ef6-b02c-f710c628d185",
   "metadata": {},
   "outputs": [],
   "source": [
    "import seaborn as sns"
   ]
  },
  {
   "cell_type": "code",
   "execution_count": 9,
   "id": "89e40657-43e4-42dc-91e6-40a269c62487",
   "metadata": {},
   "outputs": [
    {
     "data": {
      "text/plain": [
       "<Axes: >"
      ]
     },
     "execution_count": 9,
     "metadata": {},
     "output_type": "execute_result"
    },
    {
     "data": {
      "image/png": "[encoded data removed]",
      "text/plain": [
       "<Figure size 640x480 with 2 Axes>"
      ]
     },
     "metadata": {},
     "output_type": "display_data"
    }
   ],
   "source": [
    "sns.heatmap(match1.corr())"
   ]
  },
  {
   "cell_type": "code",
   "execution_count": null,
   "id": "4ef1d24c-0a07-4bf3-b09a-fd9f0873f426",
   "metadata": {},
   "outputs": [],
   "source": []
  }
 ],
 "metadata": {
  "kernelspec": {
   "display_name": "Python 3 (ipykernel)",
   "language": "python",
   "name": "python3"
  },
  "language_info": {
   "codemirror_mode": {
    "name": "ipython",
    "version": 3
   },
   "file_extension": ".py",
   "mimetype": "text/x-python",
   "name": "python",
   "nbconvert_exporter": "python",
   "pygments_lexer": "ipython3",
   "version": "3.10.12"
  }
 },
 "nbformat": 4,
 "nbformat_minor": 5
}

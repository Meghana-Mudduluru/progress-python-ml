{
 "cells": [
  {
   "cell_type": "markdown",
   "id": "80197351-2457-481f-b5da-c874f99f82f2",
   "metadata": {},
   "source": [
    "### Histogram\n",
    "* it is a graph showing frequency distributions\n",
    "* to analyse distribution of numerical data ( exam scores , stock prices , or survey responses )\n",
    "* to comp distributions of diff datasets\n",
    "* divides data into bins & counts how many data points fall into each bin"
   ]
  },
  {
   "cell_type": "code",
   "execution_count": 1,
   "id": "ab7b2fba-7a21-4cfc-bf8b-bdf702f8cd19",
   "metadata": {},
   "outputs": [],
   "source": [
    "import numpy as np\n",
    "import matplotlib.pyplot as plt"
   ]
  },
  {
   "cell_type": "code",
   "execution_count": 4,
   "id": "f4b956ed-a75f-4e5b-bc25-828c4cdd37b0",
   "metadata": {},
   "outputs": [
    {
     "data": {
      "text/plain": [
       "(array([3., 4., 5.]),\n",
       " array([1., 3., 5., 7.]),\n",
       " <BarContainer object of 3 artists>)"
      ]
     },
     "execution_count": 4,
     "metadata": {},
     "output_type": "execute_result"
    },
    {
     "data": {
      "image/png": "[encoded data removed]",
      "text/plain": [
       "<Figure size 640x480 with 1 Axes>"
      ]
     },
     "metadata": {},
     "output_type": "display_data"
    }
   ],
   "source": [
    "# example program to understand the histogram in a better way\n",
    "# width of each bin=(max value of data-min value of data)/total no of bins\n",
    "#x=['a','b','c','d','e']\n",
    "\n",
    "y=np.array([1,3,4,5,1,3,2,5,3,7,5,6])\n",
    "\n",
    "plt.hist(y,bins=3)"
   ]
  },
  {
   "cell_type": "code",
   "execution_count": null,
   "id": "fbea986a-230f-45a6-bcad-7eaa14fc0cd0",
   "metadata": {},
   "outputs": [],
   "source": []
  }
 ],
 "metadata": {
  "kernelspec": {
   "display_name": "Python 3 (ipykernel)",
   "language": "python",
   "name": "python3"
  },
  "language_info": {
   "codemirror_mode": {
    "name": "ipython",
    "version": 3
   },
   "file_extension": ".py",
   "mimetype": "text/x-python",
   "name": "python",
   "nbconvert_exporter": "python",
   "pygments_lexer": "ipython3",
   "version": "3.10.12"
  }
 },
 "nbformat": 4,
 "nbformat_minor": 5
}

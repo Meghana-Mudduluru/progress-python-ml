{
 "cells": [
  {
   "cell_type": "markdown",
   "id": "aaa3d1e8-de5c-4520-bcc5-ffb4d3d280f4",
   "metadata": {},
   "source": [
    "# Numpy"
   ]
  },
  {
   "cell_type": "code",
   "execution_count": 2,
   "id": "4938bbe9-e6bf-46b8-90a1-6e050e8a963e",
   "metadata": {},
   "outputs": [
    {
     "name": "stdout",
     "output_type": "stream",
     "text": [
      "[1 2 3 4 5]\n",
      "[[11.   1.2 13.  14.  15. ]\n",
      " [ 1.   2.   3.   4.   5. ]]\n"
     ]
    }
   ],
   "source": [
    "import numpy as np\n",
    "a=np.array([1,2,3,4,5])\n",
    "b=np.array([[11,1.2,13,14,15],[1,2,3,4,5]])\n",
    "print(a)\n",
    "print(b)"
   ]
  },
  {
   "cell_type": "markdown",
   "id": "ad482634-e598-4e3b-9f6d-cf8859ea2b0b",
   "metadata": {},
   "source": [
    " ### checking np version"
   ]
  },
  {
   "cell_type": "code",
   "execution_count": 47,
   "id": "d6d99707-dcdf-4155-8844-04096c9dc239",
   "metadata": {},
   "outputs": [
    {
     "name": "stdout",
     "output_type": "stream",
     "text": [
      "1.26.4\n"
     ]
    }
   ],
   "source": [
    "print(np.__version__)"
   ]
  },
  {
   "cell_type": "markdown",
   "id": "24c952e0-9c17-47b2-94fe-6ee6e5b4330a",
   "metadata": {},
   "source": [
    "# Basics/ndarray attributes"
   ]
  },
  {
   "cell_type": "code",
   "execution_count": 25,
   "id": "e9ef8a06-343c-41b9-a508-09a0bfc582ba",
   "metadata": {},
   "outputs": [
    {
     "data": {
      "text/plain": [
       "2"
      ]
     },
     "execution_count": 25,
     "metadata": {},
     "output_type": "execute_result"
    }
   ],
   "source": [
    "#dimension\n",
    "b.ndim"
   ]
  },
  {
   "cell_type": "code",
   "execution_count": 26,
   "id": "a0b5234f-1df2-47ae-a232-35bffe352e87",
   "metadata": {},
   "outputs": [
    {
     "data": {
      "text/plain": [
       "10"
      ]
     },
     "execution_count": 26,
     "metadata": {},
     "output_type": "execute_result"
    }
   ],
   "source": [
    "#no of elements\n",
    "b.size"
   ]
  },
  {
   "cell_type": "code",
   "execution_count": 27,
   "id": "adb42ff4-f667-45f0-b65b-bbf35c2f8b2e",
   "metadata": {},
   "outputs": [
    {
     "data": {
      "text/plain": [
       "dtype('float64')"
      ]
     },
     "execution_count": 27,
     "metadata": {},
     "output_type": "execute_result"
    }
   ],
   "source": [
    "#type\n",
    "b.dtype"
   ]
  },
  {
   "cell_type": "code",
   "execution_count": 28,
   "id": "19e2f645-2792-4411-b8f7-66c32ca00a87",
   "metadata": {},
   "outputs": [
    {
     "data": {
      "text/plain": [
       "8"
      ]
     },
     "execution_count": 28,
     "metadata": {},
     "output_type": "execute_result"
    }
   ],
   "source": [
    "#size\n",
    "b.itemsize"
   ]
  },
  {
   "cell_type": "code",
   "execution_count": 40,
   "id": "9e482b2e-6fd2-4a6c-9751-4e3355a71412",
   "metadata": {},
   "outputs": [
    {
     "data": {
      "text/plain": [
       "(2, 5)"
      ]
     },
     "execution_count": 40,
     "metadata": {},
     "output_type": "execute_result"
    }
   ],
   "source": [
    "#shape\n",
    "b.shape"
   ]
  },
  {
   "cell_type": "code",
   "execution_count": 41,
   "id": "be74b1bf-06f3-4abb-bfd8-0859b728eccd",
   "metadata": {},
   "outputs": [
    {
     "data": {
      "text/plain": [
       "80"
      ]
     },
     "execution_count": 41,
     "metadata": {},
     "output_type": "execute_result"
    }
   ],
   "source": [
    "#total size\n",
    "b.size*b.itemsize"
   ]
  },
  {
   "cell_type": "markdown",
   "id": "522babdb-59e8-408a-8f23-1a8702bfa6d7",
   "metadata": {},
   "source": [
    "# Creating arrays"
   ]
  },
  {
   "cell_type": "code",
   "execution_count": 31,
   "id": "6a0ac51c-806c-443c-9e9a-b3635f23f71f",
   "metadata": {},
   "outputs": [
    {
     "name": "stdout",
     "output_type": "stream",
     "text": [
      "30\n"
     ]
    }
   ],
   "source": [
    "#0-D array\n",
    "x=np.array(30)\n",
    "print(x)"
   ]
  },
  {
   "cell_type": "code",
   "execution_count": 32,
   "id": "9fee7960-5daf-4679-8a8a-477755d689fe",
   "metadata": {},
   "outputs": [
    {
     "name": "stdout",
     "output_type": "stream",
     "text": [
      "[1 2 3]\n"
     ]
    }
   ],
   "source": [
    "#1-D array\n",
    "y=np.array([1,2,3])\n",
    "print(y)"
   ]
  },
  {
   "cell_type": "code",
   "execution_count": 33,
   "id": "aa341323-ebc5-4d6f-8cbb-67699c0c95d6",
   "metadata": {},
   "outputs": [
    {
     "name": "stdout",
     "output_type": "stream",
     "text": [
      "[[1 2]\n",
      " [3 4]]\n"
     ]
    }
   ],
   "source": [
    "#2-d array\n",
    "z=np.array([[1,2],[3,4]])\n",
    "print(z)"
   ]
  },
  {
   "cell_type": "code",
   "execution_count": 39,
   "id": "61f8a63a-e98f-4a3c-834b-47799a80aeb8",
   "metadata": {},
   "outputs": [
    {
     "name": "stdout",
     "output_type": "stream",
     "text": [
      "[[[[[ 1  2  3  4  5]\n",
      "    [ 6  7  8  9 10]]]]]\n"
     ]
    },
    {
     "data": {
      "text/plain": [
       "5"
      ]
     },
     "execution_count": 39,
     "metadata": {},
     "output_type": "execute_result"
    }
   ],
   "source": [
    "#creating any dimensional array\n",
    "d=np.array([[1,2,3,4,5],[6,7,8,9,10]],ndmin=5)\n",
    "print(d)\n",
    "d.ndim"
   ]
  },
  {
   "cell_type": "markdown",
   "id": "890edc6c-325f-4be9-beaa-022c3d6cc3d2",
   "metadata": {},
   "source": [
    "# Accessing elements / Indexing"
   ]
  },
  {
   "cell_type": "code",
   "execution_count": 42,
   "id": "e1d76b0a-1022-4e45-b56c-feea8e206c9d",
   "metadata": {},
   "outputs": [
    {
     "name": "stdout",
     "output_type": "stream",
     "text": [
      "[[ 1  2  3  4  5  6  7]\n",
      " [ 8  9 10 11 12 13 14]]\n"
     ]
    }
   ],
   "source": [
    "s=np.array([[1,2,3,4,5,6,7],[8,9,10,11,12,13,14]])\n",
    "print(s)"
   ]
  },
  {
   "cell_type": "code",
   "execution_count": 44,
   "id": "d2f1e200-b90e-4712-8a23-2a2a9c668a0e",
   "metadata": {},
   "outputs": [
    {
     "data": {
      "text/plain": [
       "13"
      ]
     },
     "execution_count": 44,
     "metadata": {},
     "output_type": "execute_result"
    }
   ],
   "source": [
    "s[1,5]"
   ]
  },
  {
   "cell_type": "code",
   "execution_count": 45,
   "id": "dcec5fca-16d2-417b-b8e0-f34a19dcc54c",
   "metadata": {},
   "outputs": [
    {
     "data": {
      "text/plain": [
       "14"
      ]
     },
     "execution_count": 45,
     "metadata": {},
     "output_type": "execute_result"
    }
   ],
   "source": [
    "s[1,-1]"
   ]
  },
  {
   "cell_type": "code",
   "execution_count": 47,
   "id": "34441826-ac29-4aae-bca3-2d5ba662524c",
   "metadata": {},
   "outputs": [
    {
     "data": {
      "text/plain": [
       "array([ 3, 10])"
      ]
     },
     "execution_count": 47,
     "metadata": {},
     "output_type": "execute_result"
    }
   ],
   "source": [
    "#entire column\n",
    "s[:,2]"
   ]
  },
  {
   "cell_type": "code",
   "execution_count": 48,
   "id": "42f28b5b-77e7-48ef-98d6-aa0fb552218b",
   "metadata": {},
   "outputs": [
    {
     "data": {
      "text/plain": [
       "array([ 8,  9, 10, 11, 12, 13, 14])"
      ]
     },
     "execution_count": 48,
     "metadata": {},
     "output_type": "execute_result"
    }
   ],
   "source": [
    "#entire row\n",
    "s[1,:]"
   ]
  },
  {
   "cell_type": "code",
   "execution_count": 49,
   "id": "3f3cc95e-e56d-46a5-a4c6-babc8bc1e486",
   "metadata": {},
   "outputs": [
    {
     "data": {
      "text/plain": [
       "array([3, 4, 5])"
      ]
     },
     "execution_count": 49,
     "metadata": {},
     "output_type": "execute_result"
    }
   ],
   "source": [
    "s[0,2:5]"
   ]
  },
  {
   "cell_type": "code",
   "execution_count": 50,
   "id": "94bb0146-3285-44c4-8df4-c5c42606abf7",
   "metadata": {},
   "outputs": [
    {
     "data": {
      "text/plain": [
       "array([3, 5, 7])"
      ]
     },
     "execution_count": 50,
     "metadata": {},
     "output_type": "execute_result"
    }
   ],
   "source": [
    "s[0,2:7:2]"
   ]
  },
  {
   "cell_type": "code",
   "execution_count": 52,
   "id": "bb045253-75b0-45d8-bb60-2465ba193482",
   "metadata": {},
   "outputs": [
    {
     "data": {
      "text/plain": [
       "array([ 9, 11])"
      ]
     },
     "execution_count": 52,
     "metadata": {},
     "output_type": "execute_result"
    }
   ],
   "source": [
    "s[1,1:-2:2]"
   ]
  },
  {
   "cell_type": "code",
   "execution_count": 55,
   "id": "b5b9622a-7d7b-4aa8-8e91-4cc36157c46b",
   "metadata": {},
   "outputs": [
    {
     "name": "stdout",
     "output_type": "stream",
     "text": [
      "[[ 1  2  3  4  5  6  7]\n",
      " [ 8  9 10 11 12 20 14]]\n"
     ]
    }
   ],
   "source": [
    "#changing an element\n",
    "s[1,5]=20\n",
    "print(s)"
   ]
  },
  {
   "cell_type": "code",
   "execution_count": 56,
   "id": "b262838e-01c6-469e-aab7-3b6bca3469b8",
   "metadata": {},
   "outputs": [
    {
     "name": "stdout",
     "output_type": "stream",
     "text": [
      "[[ 1  2  3  4  5  6  5]\n",
      " [ 8  9 10 11 12 20  5]]\n"
     ]
    }
   ],
   "source": [
    "#changing specific column of elements\n",
    "s[:,6]=[5,5]\n",
    "print(s)"
   ]
  },
  {
   "cell_type": "code",
   "execution_count": 57,
   "id": "fd862362-5acc-4625-ae85-474a3936e686",
   "metadata": {},
   "outputs": [
    {
     "data": {
      "text/plain": [
       "array([[ 1,  2,  3,  4,  5,  6,  5],\n",
       "       [ 8,  9, 10, 11, 12, 20,  5]])"
      ]
     },
     "execution_count": 57,
     "metadata": {},
     "output_type": "execute_result"
    }
   ],
   "source": [
    "s"
   ]
  },
  {
   "cell_type": "markdown",
   "id": "c7b727b8-aa4c-4bd7-b37d-842620eb2dd7",
   "metadata": {},
   "source": [
    "# Initialising different types of arrays\n",
    "zeros,ones,full,full_like"
   ]
  },
  {
   "cell_type": "code",
   "execution_count": 59,
   "id": "ccc00ec0-af79-4576-9d2d-3f5f0ca401ca",
   "metadata": {},
   "outputs": [
    {
     "data": {
      "text/plain": [
       "array([0., 0., 0., 0., 0., 0., 0.])"
      ]
     },
     "execution_count": 59,
     "metadata": {},
     "output_type": "execute_result"
    }
   ],
   "source": [
    "# Initialising with zeros--by default dtype is float\n",
    "m=np.zeros(7)\n",
    "m"
   ]
  },
  {
   "cell_type": "code",
   "execution_count": 63,
   "id": "8262b7ff-d0c7-4791-9f8f-f0dc35e3a393",
   "metadata": {},
   "outputs": [
    {
     "data": {
      "text/plain": [
       "array([[0., 0.],\n",
       "       [0., 0.],\n",
       "       [0., 0.],\n",
       "       [0., 0.],\n",
       "       [0., 0.]])"
      ]
     },
     "execution_count": 63,
     "metadata": {},
     "output_type": "execute_result"
    }
   ],
   "source": [
    "np.zeros((5,2))"
   ]
  },
  {
   "cell_type": "code",
   "execution_count": 69,
   "id": "033d8fa5-e3da-4cec-bb80-047cf6d8e5b7",
   "metadata": {},
   "outputs": [
    {
     "data": {
      "text/plain": [
       "array([[False, False],\n",
       "       [False, False],\n",
       "       [False, False]])"
      ]
     },
     "execution_count": 69,
     "metadata": {},
     "output_type": "execute_result"
    }
   ],
   "source": [
    "np.zeros([3,2],dtype=\"bool\")"
   ]
  },
  {
   "cell_type": "code",
   "execution_count": 72,
   "id": "c30f0907-5642-43fc-8c77-b01335385d14",
   "metadata": {},
   "outputs": [
    {
     "data": {
      "text/plain": [
       "array([[1., 1., 1.],\n",
       "       [1., 1., 1.]])"
      ]
     },
     "execution_count": 72,
     "metadata": {},
     "output_type": "execute_result"
    }
   ],
   "source": [
    "g=np.ones([2,3])\n",
    "g"
   ]
  },
  {
   "cell_type": "code",
   "execution_count": 74,
   "id": "37c63c5f-fa32-416a-bfc0-015cd16e99b9",
   "metadata": {},
   "outputs": [
    {
     "data": {
      "text/plain": [
       "array([[1, 1, 1],\n",
       "       [1, 1, 1]])"
      ]
     },
     "execution_count": 74,
     "metadata": {},
     "output_type": "execute_result"
    }
   ],
   "source": [
    "g.astype(\"int\")"
   ]
  },
  {
   "cell_type": "code",
   "execution_count": 77,
   "id": "3f78643e-ac02-474e-b8f7-a59e04d0dfa8",
   "metadata": {},
   "outputs": [
    {
     "data": {
      "text/plain": [
       "array([2, 2, 2])"
      ]
     },
     "execution_count": 77,
     "metadata": {},
     "output_type": "execute_result"
    }
   ],
   "source": [
    "# By using full---by default int\n",
    "#np array(shape,value,dtype)\n",
    "np.full(3,2)"
   ]
  },
  {
   "cell_type": "code",
   "execution_count": 78,
   "id": "092b8481-dab8-43a0-a364-d8a4cde5bbbd",
   "metadata": {},
   "outputs": [
    {
     "data": {
      "text/plain": [
       "array([[5, 5, 5],\n",
       "       [5, 5, 5]])"
      ]
     },
     "execution_count": 78,
     "metadata": {},
     "output_type": "execute_result"
    }
   ],
   "source": [
    "np.full((2,3),5)"
   ]
  },
  {
   "cell_type": "code",
   "execution_count": 85,
   "id": "fa3d5813-a074-4da0-8a99-d7e83c25f901",
   "metadata": {},
   "outputs": [
    {
     "data": {
      "text/plain": [
       "array([[5., 5., 5.],\n",
       "       [5., 5., 5.]])"
      ]
     },
     "execution_count": 85,
     "metadata": {},
     "output_type": "execute_result"
    }
   ],
   "source": [
    "np.full((2,3),5,dtype=float)"
   ]
  },
  {
   "cell_type": "code",
   "execution_count": 95,
   "id": "887cb879-8c45-4590-9ac3-9ef2d1a772ab",
   "metadata": {},
   "outputs": [
    {
     "data": {
      "text/plain": [
       "array([[5, 5, 5],\n",
       "       [5, 5, 5]])"
      ]
     },
     "execution_count": 95,
     "metadata": {},
     "output_type": "execute_result"
    }
   ],
   "source": [
    "np.full(g.shape,5)"
   ]
  },
  {
   "cell_type": "code",
   "execution_count": 96,
   "id": "6e48f2ea-3103-4c8b-b9a9-297eb917bcb7",
   "metadata": {},
   "outputs": [
    {
     "data": {
      "text/plain": [
       "array([[3., 3., 3.],\n",
       "       [3., 3., 3.]])"
      ]
     },
     "execution_count": 96,
     "metadata": {},
     "output_type": "execute_result"
    }
   ],
   "source": [
    "# By using full_like\n",
    "np.full_like(g,3)"
   ]
  },
  {
   "cell_type": "markdown",
   "id": "d85a1844-f979-4f19-9e9f-329eac91cce5",
   "metadata": {},
   "source": [
    "# Random numbers\n",
    "### randint()"
   ]
  },
  {
   "cell_type": "code",
   "execution_count": 6,
   "id": "19bdd4f4-ca43-42f9-bb29-db7238dc7312",
   "metadata": {},
   "outputs": [
    {
     "name": "stdout",
     "output_type": "stream",
     "text": [
      "154\n",
      "32\n"
     ]
    }
   ],
   "source": [
    "#first import the random module\n",
    "from numpy import random\n",
    "#between range of values\n",
    "x=random.randint(100,200)\n",
    "print(x)\n",
    "y=random.randint(50)\n",
    "print(y)"
   ]
  },
  {
   "cell_type": "code",
   "execution_count": 11,
   "id": "03d5638a-5649-4b06-a7cd-51d88fd045f3",
   "metadata": {},
   "outputs": [
    {
     "data": {
      "text/plain": [
       "array([2, 3])"
      ]
     },
     "execution_count": 11,
     "metadata": {},
     "output_type": "execute_result"
    }
   ],
   "source": [
    "random.randint(5,size=2)"
   ]
  },
  {
   "cell_type": "markdown",
   "id": "85fadc0d-2428-4768-873e-6767466c6e59",
   "metadata": {},
   "source": [
    "### rand()"
   ]
  },
  {
   "cell_type": "code",
   "execution_count": 7,
   "id": "09f2bb13-35b1-4ebe-88fd-c84e7903af22",
   "metadata": {},
   "outputs": [
    {
     "data": {
      "text/plain": [
       "0.42292934341670974"
      ]
     },
     "execution_count": 7,
     "metadata": {},
     "output_type": "execute_result"
    }
   ],
   "source": [
    "#generate ramdom float btw 0 to 1\n",
    "random.rand()"
   ]
  },
  {
   "cell_type": "code",
   "execution_count": 8,
   "id": "c5af8ed8-92f1-40c5-b8ef-3cfbc9874ccc",
   "metadata": {},
   "outputs": [
    {
     "data": {
      "text/plain": [
       "array([0.85633164, 0.20917143, 0.72483775])"
      ]
     },
     "execution_count": 8,
     "metadata": {},
     "output_type": "execute_result"
    }
   ],
   "source": [
    "random.rand(3)"
   ]
  },
  {
   "cell_type": "code",
   "execution_count": 12,
   "id": "356deabf-94b6-4239-be63-21f52a02373b",
   "metadata": {},
   "outputs": [
    {
     "data": {
      "text/plain": [
       "array([[0.46232737, 0.94312902, 0.656892  , 0.68702157, 0.67043158],\n",
       "       [0.07776179, 0.71827039, 0.06865114, 0.73318389, 0.15427649],\n",
       "       [0.53000996, 0.90251419, 0.46977331, 0.5638798 , 0.5752872 ]])"
      ]
     },
     "execution_count": 12,
     "metadata": {},
     "output_type": "execute_result"
    }
   ],
   "source": [
    "random.rand(3,5)"
   ]
  },
  {
   "cell_type": "markdown",
   "id": "32c48a7d-eff3-460e-8b2d-e69041ece724",
   "metadata": {},
   "source": [
    "### choice()"
   ]
  },
  {
   "cell_type": "code",
   "execution_count": 19,
   "id": "9fc98fc8-c4c4-4c47-bf65-121afe88230b",
   "metadata": {},
   "outputs": [
    {
     "name": "stdout",
     "output_type": "stream",
     "text": [
      "7\n"
     ]
    }
   ],
   "source": [
    "#generating random number from an array\n",
    "g=random.choice([5,3,7])\n",
    "print(g)"
   ]
  },
  {
   "cell_type": "code",
   "execution_count": 22,
   "id": "9c3dc93e-4836-4393-8997-469966ac7d63",
   "metadata": {},
   "outputs": [
    {
     "name": "stdout",
     "output_type": "stream",
     "text": [
      "[[7 3 5 7 7]\n",
      " [7 3 3 5 3]]\n"
     ]
    }
   ],
   "source": [
    "g=random.choice([5,7,3],size=(2,5))\n",
    "print(g)"
   ]
  },
  {
   "cell_type": "code",
   "execution_count": 26,
   "id": "dfb58a4b-f9ff-4248-9f83-385f8449baa5",
   "metadata": {},
   "outputs": [
    {
     "name": "stdout",
     "output_type": "stream",
     "text": [
      "[[7 5 7]\n",
      " [7 7 7]\n",
      " [7 7 5]]\n"
     ]
    }
   ],
   "source": [
    "#probability of occuring the particular random number\n",
    "#probabilities should sum to 1\n",
    "g=random.choice([5,3,7],p=[0.3,0.0,0.7],size=(3,3))\n",
    "print(g)"
   ]
  },
  {
   "cell_type": "markdown",
   "id": "5d2ad64f-edb7-4c02-b96b-21554ce398bf",
   "metadata": {},
   "source": [
    "## Random permutations\n",
    "permutation means arrangement of elements"
   ]
  },
  {
   "cell_type": "markdown",
   "id": "6c940453-07a5-4c0a-96f2-34d16071d1e3",
   "metadata": {},
   "source": [
    "methods are : shuffle() and permutation()"
   ]
  },
  {
   "cell_type": "code",
   "execution_count": 43,
   "id": "ab634adf-3725-4397-b28d-3059de1f0629",
   "metadata": {},
   "outputs": [
    {
     "name": "stdout",
     "output_type": "stream",
     "text": [
      "None\n",
      "[2 1 6 4 3 5]\n"
     ]
    }
   ],
   "source": [
    "#ramdom shuffling of an array---changes the original array\n",
    "import numpy as np\n",
    "arr=np.array([1,3,5,2,4,6])\n",
    "a=random.shuffle(arr)\n",
    "print(a)\n",
    "print(arr)"
   ]
  },
  {
   "cell_type": "code",
   "execution_count": 45,
   "id": "dd3afa14-e9d1-4f7f-a387-e84fe64230fc",
   "metadata": {},
   "outputs": [
    {
     "name": "stdout",
     "output_type": "stream",
     "text": [
      "[2 4 6 5 1 3]\n",
      "[1 3 5 2 4 6]\n"
     ]
    }
   ],
   "source": [
    "#permutation -------- do not change the original array\n",
    "arr=np.array([1,3,5,2,4,6])\n",
    "a=random.permutation(arr)\n",
    "print(a)\n",
    "print(arr)"
   ]
  },
  {
   "cell_type": "markdown",
   "id": "109a0808-ce9e-4c18-9665-981a3787fc13",
   "metadata": {},
   "source": [
    "# Numpy Datatypes"
   ]
  },
  {
   "cell_type": "markdown",
   "id": "5db52ff9-96f7-4dd2-bd3d-fcae835333fd",
   "metadata": {},
   "source": [
    "strings , integer , float , boolean , complex"
   ]
  },
  {
   "cell_type": "markdown",
   "id": "0eda40e0-c33b-4e5c-b4cd-9a9f8cf7232c",
   "metadata": {},
   "source": [
    "i-integer\\\n",
    "b-boolean\\\n",
    "u-unsigned integer\\\n",
    "f-float\\\n",
    "c-complex float\\\n",
    "m-timedelta\\\n",
    "M-datetime\\\n",
    "O-object\\\n",
    "S-string\\\n",
    "U-unicode string\\\n",
    "V-fixed chunk of memory for other type\n",
    "\n"
   ]
  },
  {
   "cell_type": "code",
   "execution_count": 48,
   "id": "759e4219-8448-4d57-b23f-f5bac40fecdf",
   "metadata": {},
   "outputs": [
    {
     "name": "stdout",
     "output_type": "stream",
     "text": [
      "[1 2 3 4 5]\n",
      "int64\n"
     ]
    }
   ],
   "source": [
    "a=np.array([1,2,3,4,5])\n",
    "print(a)\n",
    "print(a.dtype)"
   ]
  },
  {
   "cell_type": "code",
   "execution_count": 50,
   "id": "c1fe1b5a-6735-43ec-9446-94f8463b6c35",
   "metadata": {},
   "outputs": [
    {
     "name": "stdout",
     "output_type": "stream",
     "text": [
      "[b'1' b'2' b'3' b'4' b'5']\n",
      "|S1\n"
     ]
    }
   ],
   "source": [
    "a=np.array([1,2,3,4,5],dtype='S')\n",
    "print(a)\n",
    "print(a.dtype)"
   ]
  },
  {
   "cell_type": "code",
   "execution_count": 54,
   "id": "9dfef178-e21a-44c7-b0cb-a9fe222c80fa",
   "metadata": {},
   "outputs": [
    {
     "name": "stdout",
     "output_type": "stream",
     "text": [
      "[1 2 3 4 5]\n",
      "timedelta64\n"
     ]
    }
   ],
   "source": [
    "a=np.array([1,2,3,4,5],dtype='m')\n",
    "print(a)\n",
    "print(a.dtype)"
   ]
  },
  {
   "cell_type": "markdown",
   "id": "b5cad13b-1a11-4422-ab42-80303e03af86",
   "metadata": {},
   "source": [
    "## copy() vs view()"
   ]
  },
  {
   "cell_type": "markdown",
   "id": "b90c7d10-4b33-420f-ac6d-bc5cd3cef3c6",
   "metadata": {},
   "source": [
    "copy()---will not change the original array---owns data\\\n",
    "view()---will change the original array---does not own data"
   ]
  },
  {
   "cell_type": "code",
   "execution_count": 55,
   "id": "2a069bea-704d-4284-ba53-92bdd6eb5745",
   "metadata": {},
   "outputs": [
    {
     "name": "stdout",
     "output_type": "stream",
     "text": [
      "[7 2 3 4 5]\n",
      "[1 2 3 4 5]\n"
     ]
    }
   ],
   "source": [
    "a=np.array([1,2,3,4,5])\n",
    "x=a.copy()\n",
    "a[0]=7\n",
    "print(a)\n",
    "print(x)"
   ]
  },
  {
   "cell_type": "code",
   "execution_count": 56,
   "id": "4bfb3787-cd6b-4793-8fa9-994afaf0e386",
   "metadata": {},
   "outputs": [
    {
     "name": "stdout",
     "output_type": "stream",
     "text": [
      "[7 2 3 4 5]\n",
      "[7 2 3 4 5]\n"
     ]
    }
   ],
   "source": [
    "a=np.array([1,2,3,4,5])\n",
    "x=a.view()\n",
    "a[0]=7\n",
    "print(a)\n",
    "print(x)"
   ]
  },
  {
   "cell_type": "markdown",
   "id": "c2b804b1-db57-4ee4-a36d-7ab9ad8457f5",
   "metadata": {},
   "source": [
    "base()---checks if the array owns the data or not"
   ]
  },
  {
   "cell_type": "code",
   "execution_count": 59,
   "id": "e1cb547e-c035-4482-afc4-f103d392508b",
   "metadata": {},
   "outputs": [
    {
     "name": "stdout",
     "output_type": "stream",
     "text": [
      "None\n",
      "[1 2 3 4 5]\n"
     ]
    }
   ],
   "source": [
    "a=np.array([1,2,3,4,5])\n",
    "x=a.view()\n",
    "y=a.copy()\n",
    "print(a.base)\n",
    "print(x.base)"
   ]
  },
  {
   "cell_type": "markdown",
   "id": "c2d7ceb0-d64c-463a-a691-d9d878032128",
   "metadata": {},
   "source": [
    "# Some methods"
   ]
  },
  {
   "cell_type": "markdown",
   "id": "43604baa-9a4c-4c64-aab6-eacd551669d0",
   "metadata": {},
   "source": [
    "### reshape()\n",
    "we can use -1 as one of the dimension"
   ]
  },
  {
   "cell_type": "code",
   "execution_count": 62,
   "id": "2c9eba36-7983-40c6-9704-2c4396e2ef3b",
   "metadata": {},
   "outputs": [
    {
     "name": "stdout",
     "output_type": "stream",
     "text": [
      "[[[1 2 3]]\n",
      "\n",
      " [[4 5 6]]]\n"
     ]
    }
   ],
   "source": [
    "a=np.array([1,2,3,4,5,6])\n",
    "b=a.reshape(2,1,-1)\n",
    "print(b)"
   ]
  },
  {
   "cell_type": "markdown",
   "id": "7b221580-1033-49fb-8497-e60dcc3a066f",
   "metadata": {},
   "source": [
    "### nditer()"
   ]
  },
  {
   "cell_type": "code",
   "execution_count": 65,
   "id": "1cafd042-18b3-4390-9f0c-979913287df6",
   "metadata": {},
   "outputs": [
    {
     "name": "stdout",
     "output_type": "stream",
     "text": [
      "1\n",
      "2\n",
      "3\n",
      "4\n",
      "5\n"
     ]
    }
   ],
   "source": [
    "a=np.array([1,2,3,4,5])\n",
    "for x in np.nditer(a):\n",
    "    print(x)"
   ]
  },
  {
   "cell_type": "markdown",
   "id": "f763bde7-88df-4d39-968f-acc04cd3e726",
   "metadata": {},
   "source": [
    "we can change datatype of elements while iterating by using\\\n",
    "op_dtypes"
   ]
  },
  {
   "cell_type": "code",
   "execution_count": 68,
   "id": "9479a442-0ac6-4b35-b4d7-de4ad0f40c41",
   "metadata": {},
   "outputs": [
    {
     "name": "stdout",
     "output_type": "stream",
     "text": [
      "b'1'\n",
      "b'2'\n",
      "b'3'\n",
      "b'4'\n",
      "b'5'\n"
     ]
    }
   ],
   "source": [
    "a=np.array([1,2,3,4,5])\n",
    "for x in np.nditer(a,flags=['buffered'],op_dtypes=['S']):\n",
    "    print(x)"
   ]
  },
  {
   "cell_type": "markdown",
   "id": "bb9fed89-5274-4f75-809b-d6595d9a99d1",
   "metadata": {},
   "source": [
    "### enumerate()\n",
    "displays elememts along with their sequence"
   ]
  },
  {
   "cell_type": "code",
   "execution_count": 69,
   "id": "55050dd3-9c5a-4823-8995-67ef5d10cb97",
   "metadata": {},
   "outputs": [
    {
     "name": "stdout",
     "output_type": "stream",
     "text": [
      "(0,) 1\n",
      "(1,) 2\n",
      "(2,) 3\n",
      "(3,) 4\n",
      "(4,) 5\n"
     ]
    }
   ],
   "source": [
    "a=np.array([1,2,3,4,5])\n",
    "for x,i in np.ndenumerate(a):\n",
    "    print(x,i)"
   ]
  },
  {
   "cell_type": "markdown",
   "id": "6fd1342f-d9d8-4c41-ba7d-c8928e997ae4",
   "metadata": {},
   "source": [
    "### arange()"
   ]
  },
  {
   "cell_type": "code",
   "execution_count": 19,
   "id": "d001bb83-b413-429a-9d19-bfc858daf564",
   "metadata": {},
   "outputs": [
    {
     "name": "stdout",
     "output_type": "stream",
     "text": [
      "[1 2 3 4 5 6 7 8 9]\n"
     ]
    }
   ],
   "source": [
    "a=np.arange(1,10)\n",
    "print(a)"
   ]
  },
  {
   "cell_type": "markdown",
   "id": "e053ee78-fb0a-40f6-9416-71108ab6eb8e",
   "metadata": {},
   "source": [
    "### reshape()"
   ]
  },
  {
   "cell_type": "code",
   "execution_count": 24,
   "id": "0d954688-e7a2-49e3-8fc2-b003c38f165d",
   "metadata": {},
   "outputs": [
    {
     "name": "stdout",
     "output_type": "stream",
     "text": [
      "[[ 1  2  3  4]\n",
      " [ 5  6  7  8]\n",
      " [ 9 10 11 12]]\n"
     ]
    }
   ],
   "source": [
    "a=np.arange(1,13).reshape(3,4)\n",
    "print(a)"
   ]
  },
  {
   "cell_type": "code",
   "execution_count": 25,
   "id": "4760cf4f-1ecb-4d8d-8678-31c0c554f058",
   "metadata": {},
   "outputs": [
    {
     "name": "stdout",
     "output_type": "stream",
     "text": [
      "[[ 1  3]\n",
      " [ 5  7]\n",
      " [ 9 11]]\n"
     ]
    }
   ],
   "source": [
    "a=np.arange(1,13,2).reshape(3,2)\n",
    "print(a)"
   ]
  },
  {
   "cell_type": "markdown",
   "id": "6462a5ed-4626-4926-83b3-89ea8301f917",
   "metadata": {},
   "source": [
    "### repeat()"
   ]
  },
  {
   "cell_type": "code",
   "execution_count": 27,
   "id": "b6247354-576a-4f9f-8c91-e185427f27c5",
   "metadata": {},
   "outputs": [
    {
     "name": "stdout",
     "output_type": "stream",
     "text": [
      "[1 1 1 2 2 2 3 3 3]\n"
     ]
    }
   ],
   "source": [
    "a=np.array([1,2,3])\n",
    "r=np.repeat(a,3)\n",
    "print(r)"
   ]
  },
  {
   "cell_type": "code",
   "execution_count": 31,
   "id": "3addaae0-e1b0-43bd-9086-210bd46ba5fb",
   "metadata": {},
   "outputs": [
    {
     "name": "stdout",
     "output_type": "stream",
     "text": [
      "[[1 2 3]\n",
      " [1 2 3]\n",
      " [1 2 3]\n",
      " [4 5 6]\n",
      " [4 5 6]\n",
      " [4 5 6]]\n"
     ]
    }
   ],
   "source": [
    "a=np.array([[1,2,3],[4,5,6]])\n",
    "r=np.repeat(a,3,axis=0) # repeating rows\n",
    "print(r)"
   ]
  },
  {
   "cell_type": "code",
   "execution_count": 30,
   "id": "6be2b09c-4a8c-429c-b9a5-c1dd1bd2b6bd",
   "metadata": {},
   "outputs": [
    {
     "name": "stdout",
     "output_type": "stream",
     "text": [
      "[[1 1 1 2 2 2 3 3 3]\n",
      " [4 4 4 5 5 5 6 6 6]]\n"
     ]
    }
   ],
   "source": [
    "a=np.array([[1,2,3],[4,5,6]])\n",
    "r=np.repeat(a,3,axis=1) # repeating columns\n",
    "print(r)"
   ]
  },
  {
   "cell_type": "markdown",
   "id": "425d8bca-04d8-42bb-9a97-b91084e1fa73",
   "metadata": {},
   "source": [
    "# Joining arrays\n",
    "we use concatenate() along with the axis\\\n",
    "If axis is not explicitly passed it is taken as 0\\\n",
    "we also use stack() function\n"
   ]
  },
  {
   "cell_type": "code",
   "execution_count": 73,
   "id": "1c1007b7-d6c4-4054-a687-88b2e63f1c95",
   "metadata": {},
   "outputs": [
    {
     "name": "stdout",
     "output_type": "stream",
     "text": [
      "[ 1  2  3  4  5  6  7  8  9 10]\n"
     ]
    }
   ],
   "source": [
    "a1=np.array([1,2,3,4,5])\n",
    "a2=np.array([6,7,8,9,10])\n",
    "a=np.concatenate((a1,a2))\n",
    "print(a)"
   ]
  },
  {
   "cell_type": "code",
   "execution_count": 154,
   "id": "2f22c810-c574-432c-97ca-dd8c0233e326",
   "metadata": {},
   "outputs": [
    {
     "name": "stdout",
     "output_type": "stream",
     "text": [
      "[[1 2]\n",
      " [3 4]\n",
      " [6 7]\n",
      " [8 9]]\n"
     ]
    }
   ],
   "source": [
    "a1=np.array([[1,2],[3,4]])#the array should be homogeneous\n",
    "a2=np.array([[6,7],[8,9]])\n",
    "a=np.concatenate((a1,a2))\n",
    "print(a)"
   ]
  },
  {
   "cell_type": "code",
   "execution_count": 155,
   "id": "b79c4693-36b6-43d2-8c5b-cecff7f8a9ee",
   "metadata": {},
   "outputs": [
    {
     "name": "stdout",
     "output_type": "stream",
     "text": [
      "[[1 2]\n",
      " [3 4]\n",
      " [6 7]\n",
      " [8 9]]\n"
     ]
    }
   ],
   "source": [
    "# concatenating with the axis\n",
    "a1=np.array([[1,2],[3,4]])#the array should be homogeneous\n",
    "a2=np.array([[6,7],[8,9]])\n",
    "a=np.concatenate((a1,a2),axis=0)\n",
    "print(a)"
   ]
  },
  {
   "cell_type": "code",
   "execution_count": 79,
   "id": "41bf1762-ce42-4e7d-b873-38fe5f4b2c70",
   "metadata": {},
   "outputs": [
    {
     "name": "stdout",
     "output_type": "stream",
     "text": [
      "[[1 2 6 7]\n",
      " [3 4 8 9]]\n"
     ]
    }
   ],
   "source": [
    "# concatenating with the axis\n",
    "a1=np.array([[1,2],[3,4]])#the array should be homogeneous\n",
    "a2=np.array([[6,7],[8,9]])\n",
    "a=np.concatenate((a1,a2),axis=1)\n",
    "print(a)"
   ]
  },
  {
   "cell_type": "code",
   "execution_count": 85,
   "id": "78c00a9f-b4a6-449e-bdfd-7e743c67ad40",
   "metadata": {},
   "outputs": [
    {
     "name": "stdout",
     "output_type": "stream",
     "text": [
      "[[1 6]\n",
      " [2 7]\n",
      " [3 8]]\n"
     ]
    }
   ],
   "source": [
    "# using stack()\n",
    "\n",
    "a1=np.array([1,2,3])\n",
    "a2=np.array([6,7,8])\n",
    "a=np.stack((a1,a2),axis=1)\n",
    "print(a)"
   ]
  },
  {
   "cell_type": "code",
   "execution_count": 80,
   "id": "aed9ca28-bc0c-4320-ae90-b9fdeb218d5a",
   "metadata": {},
   "outputs": [
    {
     "name": "stdout",
     "output_type": "stream",
     "text": [
      "[[[1 2]\n",
      "  [3 4]]\n",
      "\n",
      " [[6 7]\n",
      "  [8 9]]]\n"
     ]
    }
   ],
   "source": [
    "# using stack()\n",
    "\n",
    "a1=np.array([[1,2],[3,4]])\n",
    "a2=np.array([[6,7],[8,9]])\n",
    "a=np.stack((a1,a2),axis=0)\n",
    "print(a)"
   ]
  },
  {
   "cell_type": "code",
   "execution_count": 81,
   "id": "e8ee02dc-52b9-41d7-8e36-a904035ffe5f",
   "metadata": {},
   "outputs": [
    {
     "name": "stdout",
     "output_type": "stream",
     "text": [
      "[[[1 2]\n",
      "  [6 7]]\n",
      "\n",
      " [[3 4]\n",
      "  [8 9]]]\n"
     ]
    }
   ],
   "source": [
    "# using stack()\n",
    "\n",
    "a1=np.array([[1,2],[3,4]])\n",
    "a2=np.array([[6,7],[8,9]])\n",
    "a=np.stack((a1,a2),axis=1)\n",
    "print(a)"
   ]
  },
  {
   "cell_type": "markdown",
   "id": "d4a01bc5-c4af-4030-8b57-ec1ff19b1d52",
   "metadata": {},
   "source": [
    "hstack()---stack along rows\n"
   ]
  },
  {
   "cell_type": "code",
   "execution_count": 88,
   "id": "d046f5c1-fe04-4b7a-8449-06c36a61f54c",
   "metadata": {},
   "outputs": [
    {
     "name": "stdout",
     "output_type": "stream",
     "text": [
      "[[1 2 6 7]\n",
      " [3 4 8 9]]\n"
     ]
    }
   ],
   "source": [
    "a1=np.array([[1,2],[3,4]])\n",
    "a2=np.array([[6,7],[8,9]])\n",
    "a=np.hstack((a1,a2))\n",
    "print(a)"
   ]
  },
  {
   "cell_type": "code",
   "execution_count": 96,
   "id": "b4ea56c7-7499-48ac-bd18-c089b8ee7ef0",
   "metadata": {},
   "outputs": [
    {
     "name": "stdout",
     "output_type": "stream",
     "text": [
      "[1 2 3 6 7 8]\n"
     ]
    }
   ],
   "source": [
    "a1=np.array([1,2,3])\n",
    "a2=np.array([6,7,8])\n",
    "a=np.hstack((a1,a2))\n",
    "print(a)"
   ]
  },
  {
   "cell_type": "markdown",
   "id": "f61d1b85-d594-4bc9-a2f5-1f161b56986a",
   "metadata": {},
   "source": [
    "vstack()---stack along columns"
   ]
  },
  {
   "cell_type": "code",
   "execution_count": 90,
   "id": "9e014609-40ef-4f36-ac10-dfa944473009",
   "metadata": {},
   "outputs": [
    {
     "name": "stdout",
     "output_type": "stream",
     "text": [
      "[[1 2]\n",
      " [3 4]\n",
      " [6 7]\n",
      " [8 9]]\n"
     ]
    }
   ],
   "source": [
    "a1=np.array([[1,2],[3,4]])\n",
    "a2=np.array([[6,7],[8,9]])\n",
    "a=np.vstack((a1,a2))\n",
    "print(a)"
   ]
  },
  {
   "cell_type": "code",
   "execution_count": 92,
   "id": "7f3fa845-264b-4b7f-9e49-ea94d7541119",
   "metadata": {},
   "outputs": [
    {
     "name": "stdout",
     "output_type": "stream",
     "text": [
      "[[1 2 3]\n",
      " [6 7 8]]\n"
     ]
    }
   ],
   "source": [
    "a1=np.array([1,2,3])\n",
    "a2=np.array([6,7,8])\n",
    "a=np.vstack((a1,a2))\n",
    "print(a)"
   ]
  },
  {
   "cell_type": "markdown",
   "id": "49b68070-83af-4db1-97e8-b0369ad82f85",
   "metadata": {},
   "source": [
    "dstack()---stack along height"
   ]
  },
  {
   "cell_type": "code",
   "execution_count": 93,
   "id": "cc54d0f8-68c3-4bef-b24c-3c94f48abe10",
   "metadata": {},
   "outputs": [
    {
     "name": "stdout",
     "output_type": "stream",
     "text": [
      "[[[1 6]\n",
      "  [2 7]\n",
      "  [3 8]]]\n"
     ]
    }
   ],
   "source": [
    "a1=np.array([1,2,3])\n",
    "a2=np.array([6,7,8])\n",
    "a=np.dstack((a1,a2))\n",
    "print(a)"
   ]
  },
  {
   "cell_type": "code",
   "execution_count": 94,
   "id": "1f1b6543-f93e-48cb-bc31-c053a7cb7862",
   "metadata": {},
   "outputs": [
    {
     "name": "stdout",
     "output_type": "stream",
     "text": [
      "[[[1 6]\n",
      "  [2 7]]\n",
      "\n",
      " [[3 8]\n",
      "  [4 9]]]\n"
     ]
    }
   ],
   "source": [
    "a1=np.array([[1,2],[3,4]])\n",
    "a2=np.array([[6,7],[8,9]])\n",
    "a=np.dstack((a1,a2))\n",
    "print(a)"
   ]
  },
  {
   "cell_type": "markdown",
   "id": "f3293ad6-13d8-4dc9-b398-e55f8d4daab8",
   "metadata": {},
   "source": [
    "# Splitting arrays\n",
    "It is the reverse operation of joining\\\n",
    "we use array_split()---theparameters are the array and the no of splits"
   ]
  },
  {
   "cell_type": "markdown",
   "id": "d8b2b83d-0afe-418a-9821-3ea96a1ef618",
   "metadata": {},
   "source": [
    "splitting 1-D array"
   ]
  },
  {
   "cell_type": "code",
   "execution_count": 117,
   "id": "22510c9e-8a1f-4c2e-b70e-a990fc896760",
   "metadata": {},
   "outputs": [
    {
     "data": {
      "text/plain": [
       "[array([1, 2]), array([3, 4]), array([5, 6])]"
      ]
     },
     "execution_count": 117,
     "metadata": {},
     "output_type": "execute_result"
    }
   ],
   "source": [
    "a=np.array([1,2,3,4,5,6])\n",
    "np.array_split(a,3)\n",
    "#print(a1)"
   ]
  },
  {
   "cell_type": "code",
   "execution_count": 118,
   "id": "b6284d65-bba3-42bc-9164-905ccd50fed5",
   "metadata": {},
   "outputs": [
    {
     "name": "stdout",
     "output_type": "stream",
     "text": [
      "[array([1, 2]), array([3, 4]), array([5]), array([6])]\n",
      "2\n",
      "[3 4]\n"
     ]
    }
   ],
   "source": [
    "a=np.array([1,2,3,4,5,6])\n",
    "a1=np.array_split(a,4)\n",
    "print(a1)\n",
    "a2=a1[1]\n",
    "print(a1[0][1])\n",
    "print(a2)"
   ]
  },
  {
   "cell_type": "code",
   "execution_count": 119,
   "id": "0651f8d9-c05c-4bca-a61a-d62d788bf8ba",
   "metadata": {},
   "outputs": [
    {
     "data": {
      "text/plain": [
       "[array([1, 2, 3]), array([4, 5]), array([6, 7])]"
      ]
     },
     "execution_count": 119,
     "metadata": {},
     "output_type": "execute_result"
    }
   ],
   "source": [
    "a=np.array([1,2,3,4,5,6,7])\n",
    "np.array_split(a,3)\n",
    "#print(a1)"
   ]
  },
  {
   "cell_type": "markdown",
   "id": "314c987d-922d-43e6-99eb-4903808318fd",
   "metadata": {},
   "source": [
    "split() can also be used as an alternative but it will result in error if there is no equal division"
   ]
  },
  {
   "cell_type": "markdown",
   "id": "a1b0ddc6-07ee-45a2-8671-d176aca9dda8",
   "metadata": {},
   "source": [
    "splitting 2-D array"
   ]
  },
  {
   "cell_type": "code",
   "execution_count": 156,
   "id": "b054bcbf-c705-459f-93d8-b2ceb04c262a",
   "metadata": {},
   "outputs": [
    {
     "data": {
      "text/plain": [
       "[array([[1, 2],\n",
       "        [3, 4]]),\n",
       " array([[5, 6],\n",
       "        [7, 8]]),\n",
       " array([[ 9, 10],\n",
       "        [11, 12]])]"
      ]
     },
     "execution_count": 156,
     "metadata": {},
     "output_type": "execute_result"
    }
   ],
   "source": [
    "#equal division\n",
    "a=np.array([[1,2],[3,4],[5,6],[7,8],[9,10],[11,12]])\n",
    "np.array_split(a,3)"
   ]
  },
  {
   "cell_type": "code",
   "execution_count": 157,
   "id": "7c3e1276-4acc-4b1e-a700-d1dcb365f6c4",
   "metadata": {},
   "outputs": [
    {
     "data": {
      "text/plain": [
       "[array([[1, 2],\n",
       "        [3, 4]]),\n",
       " array([[5, 6],\n",
       "        [7, 8]]),\n",
       " array([[ 9, 10]]),\n",
       " array([[11, 12]])]"
      ]
     },
     "execution_count": 157,
     "metadata": {},
     "output_type": "execute_result"
    }
   ],
   "source": [
    "#unequal division\n",
    "a=np.array([[1,2],[3,4],[5,6],[7,8],[9,10],[11,12]])\n",
    "np.array_split(a,4)"
   ]
  },
  {
   "cell_type": "markdown",
   "id": "feb589c1-00e8-450e-b0de-565606687c2f",
   "metadata": {},
   "source": [
    "split along the row"
   ]
  },
  {
   "cell_type": "code",
   "execution_count": 127,
   "id": "a2832e8e-98dc-48be-a322-5e4561432514",
   "metadata": {},
   "outputs": [
    {
     "data": {
      "text/plain": [
       "[array([[ 1],\n",
       "        [ 3],\n",
       "        [ 5],\n",
       "        [ 7],\n",
       "        [ 9],\n",
       "        [11]]),\n",
       " array([[ 2],\n",
       "        [ 4],\n",
       "        [ 6],\n",
       "        [ 8],\n",
       "        [10],\n",
       "        [12]]),\n",
       " array([], shape=(6, 0), dtype=int64),\n",
       " array([], shape=(6, 0), dtype=int64)]"
      ]
     },
     "execution_count": 127,
     "metadata": {},
     "output_type": "execute_result"
    }
   ],
   "source": [
    "a=np.array([[1,2],[3,4],[5,6],[7,8],[9,10],[11,12]])\n",
    "np.array_split(a,4,axis=1)"
   ]
  },
  {
   "cell_type": "code",
   "execution_count": 132,
   "id": "7389a2be-a059-432b-a3d5-7e5efdc48e74",
   "metadata": {},
   "outputs": [
    {
     "data": {
      "text/plain": [
       "[array([[ 1],\n",
       "        [ 3],\n",
       "        [ 5],\n",
       "        [ 7],\n",
       "        [ 9],\n",
       "        [11]]),\n",
       " array([[ 2],\n",
       "        [ 4],\n",
       "        [ 6],\n",
       "        [ 8],\n",
       "        [10],\n",
       "        [12]])]"
      ]
     },
     "execution_count": 132,
     "metadata": {},
     "output_type": "execute_result"
    }
   ],
   "source": [
    "#hsplit()---should be of equal division\n",
    "a=np.array([[1,2],[3,4],[5,6],[7,8],[9,10],[11,12]])\n",
    "np.hsplit(a,2)"
   ]
  },
  {
   "cell_type": "code",
   "execution_count": 138,
   "id": "3bf30ce3-bef6-43f5-8308-2c4fa2a15d20",
   "metadata": {},
   "outputs": [
    {
     "data": {
      "text/plain": [
       "[array([[1, 2],\n",
       "        [3, 4],\n",
       "        [5, 6]]),\n",
       " array([[ 7,  8],\n",
       "        [ 9, 10],\n",
       "        [11, 12]])]"
      ]
     },
     "execution_count": 138,
     "metadata": {},
     "output_type": "execute_result"
    }
   ],
   "source": [
    "#vsplit()---should be of equal division\n",
    "a=np.array([[1,2],[3,4],[5,6],[7,8],[9,10],[11,12]])\n",
    "np.vsplit(a,2)"
   ]
  },
  {
   "cell_type": "markdown",
   "id": "203feaca-0731-4933-b14b-363b363d500f",
   "metadata": {},
   "source": [
    "# Searching arrays\n",
    "Can find indexes\\\n",
    "we use where()\\\n",
    "searchsorted()---performs binary search in array---assumed to be used on sorted arrays"
   ]
  },
  {
   "cell_type": "markdown",
   "id": "7bd3d5b2-77eb-46e0-ab4a-7a973d006287",
   "metadata": {},
   "source": [
    "## where()"
   ]
  },
  {
   "cell_type": "code",
   "execution_count": 139,
   "id": "1219b06f-51b3-4d29-851b-2978fd7c5aab",
   "metadata": {},
   "outputs": [
    {
     "name": "stdout",
     "output_type": "stream",
     "text": [
      "(array([0, 4]), array([1, 0]))\n"
     ]
    }
   ],
   "source": [
    "a=np.array([[1,2],[3,1],[5,6],[7,8],[2,10],[11,12]])\n",
    "x=np.where(a==2)\n",
    "print(x)"
   ]
  },
  {
   "cell_type": "code",
   "execution_count": 140,
   "id": "fd76e675-f76b-45c9-81dd-8f4ad8e89e14",
   "metadata": {},
   "outputs": [
    {
     "name": "stdout",
     "output_type": "stream",
     "text": [
      "(array([0, 2, 4, 6]),)\n"
     ]
    }
   ],
   "source": [
    "a=np.array([1,2,3,4,5,6,7])\n",
    "x=np.where(a%2==1)\n",
    "print(x)"
   ]
  },
  {
   "cell_type": "markdown",
   "id": "64202530-36b0-43b1-ac0b-9d01eed98427",
   "metadata": {},
   "source": [
    "## searchsorted()"
   ]
  },
  {
   "cell_type": "code",
   "execution_count": 158,
   "id": "7be2824c-c687-4933-8b0d-752fa3a2df78",
   "metadata": {},
   "outputs": [
    {
     "name": "stdout",
     "output_type": "stream",
     "text": [
      "5\n"
     ]
    }
   ],
   "source": [
    "# to find the index where the particular element can be inserted\n",
    "a=np.array([1,2,3,4,5,6,7])\n",
    "x=np.searchsorted(a,5.2)# 5.2 can be inserted at 5th index position\n",
    "print(x)"
   ]
  },
  {
   "cell_type": "code",
   "execution_count": 160,
   "id": "9336f0cb-fce2-413c-8e01-3862e48203e0",
   "metadata": {},
   "outputs": [
    {
     "name": "stdout",
     "output_type": "stream",
     "text": [
      "4\n"
     ]
    }
   ],
   "source": [
    "a=np.array([1,2,3,4,5,6,7])\n",
    "x=np.searchsorted(a,5)\n",
    "print(x)"
   ]
  },
  {
   "cell_type": "code",
   "execution_count": 161,
   "id": "d1aa5123-b709-4b9d-b4e8-dff6ab86aee3",
   "metadata": {},
   "outputs": [
    {
     "name": "stdout",
     "output_type": "stream",
     "text": [
      "5\n"
     ]
    }
   ],
   "source": [
    "a=np.array([1,2,3,4,5,6,7])\n",
    "x=np.searchsorted(a,5,side='right')\n",
    "print(x)"
   ]
  },
  {
   "cell_type": "code",
   "execution_count": 163,
   "id": "bc4e0f49-06b8-40e1-bd14-09c79381c0a7",
   "metadata": {},
   "outputs": [
    {
     "name": "stdout",
     "output_type": "stream",
     "text": [
      "[4 1 6]\n"
     ]
    }
   ],
   "source": [
    "# to search for multiple elements\n",
    "a=np.array([1,2,3,4,5,6,7])\n",
    "x=np.searchsorted(a,[5,2,7])\n",
    "print(x)"
   ]
  },
  {
   "cell_type": "markdown",
   "id": "830129a6-a47b-446a-b6da-ca84a9c46c1c",
   "metadata": {},
   "source": [
    "# Sorting arrays"
   ]
  },
  {
   "cell_type": "code",
   "execution_count": 165,
   "id": "9f38e33a-1042-4436-9b6d-e9634afbacc5",
   "metadata": {},
   "outputs": [
    {
     "name": "stdout",
     "output_type": "stream",
     "text": [
      "[0 1 2 3]\n"
     ]
    }
   ],
   "source": [
    "# returns a copy of array---original array is unchanged\n",
    "a=np.array([3,2,0,1])\n",
    "a1=np.sort(a)\n",
    "print(a1)"
   ]
  },
  {
   "cell_type": "code",
   "execution_count": 166,
   "id": "a7f9e986-b76d-4443-a0c0-a464858690a3",
   "metadata": {},
   "outputs": [
    {
     "name": "stdout",
     "output_type": "stream",
     "text": [
      "[0 1 2 3]\n"
     ]
    }
   ],
   "source": [
    "a=np.array([3,2,0,1])\n",
    "print(np.sort(a))"
   ]
  },
  {
   "cell_type": "code",
   "execution_count": 167,
   "id": "e9206d5b-af88-4b09-bf02-6ae3b3b6820c",
   "metadata": {},
   "outputs": [
    {
     "name": "stdout",
     "output_type": "stream",
     "text": [
      "['grapes' 'guava' 'mango' 'orange' 'pineapple']\n"
     ]
    }
   ],
   "source": [
    "# sorting strings\n",
    "a=np.array(['guava','pineapple','mango','grapes','orange'])\n",
    "print(np.sort(a))"
   ]
  },
  {
   "cell_type": "code",
   "execution_count": 179,
   "id": "337cbb07-3ce4-4c31-ab69-fc2e2af135ee",
   "metadata": {},
   "outputs": [
    {
     "name": "stdout",
     "output_type": "stream",
     "text": [
      "['Cat' 'False' 'True' 'True' 'cat']\n"
     ]
    }
   ],
   "source": [
    "a=np.array([True,True,False,'Cat','cat'])\n",
    "print(np.sort(a))"
   ]
  },
  {
   "cell_type": "markdown",
   "id": "fedf31de-e022-442b-ac88-9812f9ea1308",
   "metadata": {},
   "source": [
    "Sorting 2-D array"
   ]
  },
  {
   "cell_type": "code",
   "execution_count": 178,
   "id": "2036cf6c-afbb-4617-bccb-71a41f9da3c7",
   "metadata": {},
   "outputs": [
    {
     "name": "stdout",
     "output_type": "stream",
     "text": [
      "[[2 3 4]\n",
      " [0 1 5]]\n"
     ]
    }
   ],
   "source": [
    "a=np.array([[3,2,4],[5,0,1]])\n",
    "print(np.sort(a))"
   ]
  },
  {
   "cell_type": "markdown",
   "id": "da3049fb-8f99-4b1d-b337-df6cdad84687",
   "metadata": {},
   "source": [
    "# Filtering the array"
   ]
  },
  {
   "cell_type": "code",
   "execution_count": 5,
   "id": "28d88cce-355d-4b41-a857-fe0ec5338bbe",
   "metadata": {},
   "outputs": [
    {
     "name": "stdout",
     "output_type": "stream",
     "text": [
      "[1 2 5]\n"
     ]
    }
   ],
   "source": [
    "arr=np.array([1,2,3,4,5])\n",
    "a=[True,True,False,False,True]\n",
    "newarr=arr[a]\n",
    "print(newarr)"
   ]
  },
  {
   "cell_type": "code",
   "execution_count": 8,
   "id": "686c6fb3-d4d5-4ca4-80fc-ddf82d1dcd21",
   "metadata": {},
   "outputs": [
    {
     "name": "stdout",
     "output_type": "stream",
     "text": [
      "[5 6 7]\n"
     ]
    }
   ],
   "source": [
    "arr=np.array([1,2,3,4,5,6,7])\n",
    "fil_arr=[]\n",
    "for i in arr:\n",
    "    if i>=5:\n",
    "        fil_arr.append(True)\n",
    "    else:\n",
    "        fil_arr.append(False)\n",
    "newarr=arr[fil_arr]\n",
    "print(newarr)"
   ]
  },
  {
   "cell_type": "markdown",
   "id": "82b62f07-916b-42f2-9b55-130297c7d348",
   "metadata": {},
   "source": [
    "# Simple Arithmetic Operations \n",
    "add()\\\n",
    "subtract()\\\n",
    "multiply()\\\n",
    "divide()\\\n",
    "power()\\\n",
    "mod() or remainder()---returns remainder of values\\\n",
    "divmod()---returns both quotient and mod in two arrays\\\n",
    "absolute() or abs()---but absolute() is preferable\n"
   ]
  },
  {
   "cell_type": "code",
   "execution_count": 9,
   "id": "77d37493-3181-45fa-a08b-5a5d04d70f16",
   "metadata": {},
   "outputs": [
    {
     "data": {
      "text/plain": [
       "array([12, 22, 32, 42, 52])"
      ]
     },
     "execution_count": 9,
     "metadata": {},
     "output_type": "execute_result"
    }
   ],
   "source": [
    "a=np.array([10,20,30,40,50])\n",
    "a+2"
   ]
  },
  {
   "cell_type": "code",
   "execution_count": 10,
   "id": "a151e2fd-e30f-4041-b624-ba46f3c5d3c2",
   "metadata": {},
   "outputs": [
    {
     "data": {
      "text/plain": [
       "array([ 7, 17, 27, 37, 47])"
      ]
     },
     "execution_count": 10,
     "metadata": {},
     "output_type": "execute_result"
    }
   ],
   "source": [
    "a-3"
   ]
  },
  {
   "cell_type": "code",
   "execution_count": 11,
   "id": "9963201a-a380-469f-868f-d280608cd611",
   "metadata": {},
   "outputs": [
    {
     "data": {
      "text/plain": [
       "array([ 100,  400,  900, 1600, 2500])"
      ]
     },
     "execution_count": 11,
     "metadata": {},
     "output_type": "execute_result"
    }
   ],
   "source": [
    "a**2"
   ]
  },
  {
   "cell_type": "code",
   "execution_count": 15,
   "id": "7dc4a68a-ad5d-4a4a-ad99-1c019d493508",
   "metadata": {},
   "outputs": [
    {
     "data": {
      "text/plain": [
       "array([10,  9,  8,  7,  6])"
      ]
     },
     "execution_count": 15,
     "metadata": {},
     "output_type": "execute_result"
    }
   ],
   "source": [
    "a%11 # returns remainder"
   ]
  },
  {
   "cell_type": "code",
   "execution_count": 16,
   "id": "c4fa77f5-ccc3-4eba-bfe8-62ffc2a99d9f",
   "metadata": {},
   "outputs": [
    {
     "data": {
      "text/plain": [
       "array([ 3,  6, 10, 13, 16])"
      ]
     },
     "execution_count": 16,
     "metadata": {},
     "output_type": "execute_result"
    }
   ],
   "source": [
    "a//3  # returns quotient"
   ]
  },
  {
   "cell_type": "code",
   "execution_count": 18,
   "id": "4ab47f57-dbf0-4a46-8c12-fb4e01258d87",
   "metadata": {},
   "outputs": [
    {
     "name": "stdout",
     "output_type": "stream",
     "text": [
      "(array([ 3,  2,  3,  5, 25,  1]), array([ 1,  6,  3,  0,  0, 27]))\n"
     ]
    }
   ],
   "source": [
    "# divmod()---returns both remainder and quotient\n",
    "a1=np.array([10,20,30,40,50,60])\n",
    "a2=np.array([3,7,9,8,2,33])\n",
    "new=np.divmod(a1,a2)\n",
    "print(new)"
   ]
  },
  {
   "cell_type": "code",
   "execution_count": 21,
   "id": "8431d677-b068-4a37-b1b3-771645ae2729",
   "metadata": {},
   "outputs": [
    {
     "name": "stdout",
     "output_type": "stream",
     "text": [
      "[2. 5. 7. 3.]\n"
     ]
    }
   ],
   "source": [
    "# absolute()\n",
    "a=np.array([-2,-5,7,3],dtype='float')\n",
    "n=np.absolute(a)\n",
    "print(n)"
   ]
  },
  {
   "cell_type": "markdown",
   "id": "952a6582-9af1-42d2-9a93-0f57dca999cf",
   "metadata": {},
   "source": [
    "# Rounding decimals\n",
    "trunc() and fix()-----remove the decimals and return the float number closest to zero\\\n",
    "trunc()---truncation of fractional part\\\n",
    "fix()---more about fixing the value by moving towards zero\n"
   ]
  },
  {
   "cell_type": "markdown",
   "id": "e0c7b839-96c1-40c5-93b5-94ba36833a78",
   "metadata": {},
   "source": [
    "### trun() and fix()"
   ]
  },
  {
   "cell_type": "code",
   "execution_count": 23,
   "id": "1882a792-057d-4e1d-84ef-5b7fe021ee8b",
   "metadata": {},
   "outputs": [
    {
     "name": "stdout",
     "output_type": "stream",
     "text": [
      "[ 3. -3.  2. -2.  1. -1.]\n"
     ]
    }
   ],
   "source": [
    "# using trunc()\n",
    "a=np.array([3.7,-3.7,2.5,-2.5,1.3,-1.3])\n",
    "n=np.trunc(a)\n",
    "print(n)"
   ]
  },
  {
   "cell_type": "code",
   "execution_count": 24,
   "id": "e7df853a-eaec-47b5-8c13-d8f65a1e63b8",
   "metadata": {},
   "outputs": [
    {
     "name": "stdout",
     "output_type": "stream",
     "text": [
      "[ 3. -3.  2. -2.  1. -1.]\n"
     ]
    }
   ],
   "source": [
    "# using fix()\n",
    "a=np.array([3.7,-3.7,2.5,-2.5,1.3,-1.3])\n",
    "n=np.fix(a)\n",
    "print(n)"
   ]
  },
  {
   "cell_type": "markdown",
   "id": "0b31caf2-fb04-46d3-a426-128a1bbab567",
   "metadata": {},
   "source": [
    "### around()\n",
    "round off to 1 decimal point"
   ]
  },
  {
   "cell_type": "code",
   "execution_count": 6,
   "id": "abc94fdd-6bb6-431d-a314-de21ddcf9f43",
   "metadata": {},
   "outputs": [
    {
     "name": "stdout",
     "output_type": "stream",
     "text": [
      "[ 3.17 -2.72  5.5 ]\n"
     ]
    }
   ],
   "source": [
    "# round off to 2 decimal places\n",
    "a=np.array([3.1666,-2.723,5.5])\n",
    "n=np.around(a,2)\n",
    "print(n)"
   ]
  },
  {
   "cell_type": "code",
   "execution_count": 10,
   "id": "2c628eb6-90fb-4354-b5cd-ef240b3a974a",
   "metadata": {},
   "outputs": [
    {
     "name": "stdout",
     "output_type": "stream",
     "text": [
      "[ 3.167 -2.727  5.508]\n"
     ]
    }
   ],
   "source": [
    "# rounf off to 3 decimal places\n",
    "a=np.array([3.16665623,-2.726526,5.507724])\n",
    "n=np.around(a,3)\n",
    "print(n)"
   ]
  },
  {
   "cell_type": "markdown",
   "id": "77ddd533-09bf-465b-a167-7a40d398df32",
   "metadata": {},
   "source": [
    "### floor()\n",
    "rounds off decimal to nearest lower integer"
   ]
  },
  {
   "cell_type": "code",
   "execution_count": 15,
   "id": "daf3b866-849c-4d52-b832-eb65a9641f75",
   "metadata": {},
   "outputs": [
    {
     "name": "stdout",
     "output_type": "stream",
     "text": [
      "[ 3. -3.  5.  2.  2.  2.  0.]\n"
     ]
    }
   ],
   "source": [
    "a=np.array([3.16665623,-2.426526,5.507724,2.2,2.7,2.0,0.2])\n",
    "n=np.floor(a)\n",
    "print(n)"
   ]
  },
  {
   "cell_type": "markdown",
   "id": "ed675cd5-6610-44bf-9dc2-23cea1cb7f80",
   "metadata": {},
   "source": [
    "### ceil()\n",
    "rounds off decimal to nearest upper integer"
   ]
  },
  {
   "cell_type": "code",
   "execution_count": 17,
   "id": "a4757145-168b-4c16-a65c-13286b8f5d9d",
   "metadata": {},
   "outputs": [
    {
     "name": "stdout",
     "output_type": "stream",
     "text": [
      "[ 4. -2.  6.  3.  3.  2.  1. -1.  0. -1.]\n"
     ]
    }
   ],
   "source": [
    "a=np.array([3.16665623,-2.426526,5.507724,2.2,2.7,2.0,0.2,-1.72,0.0,-1.23])\n",
    "n=np.ceil(a)\n",
    "print(n)"
   ]
  },
  {
   "cell_type": "markdown",
   "id": "34f3a67f-e0db-466d-a250-fbd37e179ddb",
   "metadata": {},
   "source": [
    "# Linear Algebra\n",
    "## Matrix Operations"
   ]
  },
  {
   "cell_type": "markdown",
   "id": "9438e7ee-5451-4b65-9a17-7dd444e3525a",
   "metadata": {},
   "source": [
    "### dot()\n",
    "product of two arrays"
   ]
  },
  {
   "cell_type": "code",
   "execution_count": 32,
   "id": "04a0977d-e28f-486f-9c92-dc08591b1820",
   "metadata": {},
   "outputs": [
    {
     "data": {
      "text/plain": [
       "38"
      ]
     },
     "execution_count": 32,
     "metadata": {},
     "output_type": "execute_result"
    }
   ],
   "source": [
    "a=np.array([1,2,3])\n",
    "b=np.array([5,6,7])\n",
    "np.dot(a,b)"
   ]
  },
  {
   "cell_type": "code",
   "execution_count": 55,
   "id": "bd69b300-f605-42b0-a662-27bdfc80f20f",
   "metadata": {},
   "outputs": [
    {
     "data": {
      "text/plain": [
       "array([[19, 10],\n",
       "       [43, 26]])"
      ]
     },
     "execution_count": 55,
     "metadata": {},
     "output_type": "execute_result"
    }
   ],
   "source": [
    "a=np.array([[1,2],[3,4]])\n",
    "b=np.array([[5,6],[7,2]])\n",
    "np.dot(a,b)"
   ]
  },
  {
   "cell_type": "markdown",
   "id": "a97fd095-500b-454e-8f63-7cdeff0a5a01",
   "metadata": {},
   "source": [
    "### inner product"
   ]
  },
  {
   "cell_type": "code",
   "execution_count": 35,
   "id": "2735fb10-b6a2-4930-bee3-5a7a79153811",
   "metadata": {},
   "outputs": [
    {
     "data": {
      "text/plain": [
       "38"
      ]
     },
     "execution_count": 35,
     "metadata": {},
     "output_type": "execute_result"
    }
   ],
   "source": [
    "a=np.array([1,2,3])\n",
    "b=np.array([5,6,7])\n",
    "np.inner(a,b)"
   ]
  },
  {
   "cell_type": "code",
   "execution_count": 40,
   "id": "5488e47b-0773-4fe8-870e-a145ad797904",
   "metadata": {},
   "outputs": [
    {
     "data": {
      "text/plain": [
       "array([[17, 11],\n",
       "       [39, 29]])"
      ]
     },
     "execution_count": 40,
     "metadata": {},
     "output_type": "execute_result"
    }
   ],
   "source": [
    "a=np.array([[1,2],[3,4]])   #[[1*5+2*6  1*7+2*2]   [[5+12  7+4]\n",
    "b=np.array([[5,6],[7,2]])   #[3*5+4*6  3*7+4*2]]   [15+24 21+8]]\n",
    "np.inner(a,b)"
   ]
  },
  {
   "cell_type": "markdown",
   "id": "72b11d89-d414-44fb-98d6-7dd3ee98234f",
   "metadata": {},
   "source": [
    "### outer product"
   ]
  },
  {
   "cell_type": "code",
   "execution_count": 41,
   "id": "124c4bb3-dbb8-46ef-9bdc-72456f614765",
   "metadata": {},
   "outputs": [
    {
     "data": {
      "text/plain": [
       "array([[ 5,  6,  7],\n",
       "       [10, 12, 14],\n",
       "       [15, 18, 21]])"
      ]
     },
     "execution_count": 41,
     "metadata": {},
     "output_type": "execute_result"
    }
   ],
   "source": [
    "a=np.array([1,2,3])\n",
    "b=np.array([5,6,7])\n",
    "np.outer(a,b)"
   ]
  },
  {
   "cell_type": "code",
   "execution_count": 42,
   "id": "7ac8c43e-6205-44d7-a731-ccd23067f12f",
   "metadata": {},
   "outputs": [
    {
     "data": {
      "text/plain": [
       "array([[ 5,  6,  7,  2],\n",
       "       [10, 12, 14,  4],\n",
       "       [15, 18, 21,  6],\n",
       "       [20, 24, 28,  8]])"
      ]
     },
     "execution_count": 42,
     "metadata": {},
     "output_type": "execute_result"
    }
   ],
   "source": [
    "a=np.array([[1,2],[3,4]])\n",
    "b=np.array([[5,6],[7,2]])\n",
    "np.outer(a,b)"
   ]
  },
  {
   "cell_type": "markdown",
   "id": "fe462fb8-1aa3-478d-a6bf-53c53cd654d9",
   "metadata": {},
   "source": [
    "### determinant of matrix"
   ]
  },
  {
   "cell_type": "code",
   "execution_count": 47,
   "id": "7442fe3b-8b89-4764-aa64-ea46ec709488",
   "metadata": {},
   "outputs": [
    {
     "name": "stdout",
     "output_type": "stream",
     "text": [
      "-7.999999999999998\n"
     ]
    }
   ],
   "source": [
    "# det() function from linalg module\n",
    "a=np.array([[1,3],[5,7]])\n",
    "b=np.array([[5,6],[7,2]])\n",
    "result=np.linalg.det(a)\n",
    "print(result)"
   ]
  },
  {
   "cell_type": "code",
   "execution_count": 51,
   "id": "744378af-b85b-4037-bf58-a857b61dd590",
   "metadata": {},
   "outputs": [
    {
     "data": {
      "text/plain": [
       "1.0"
      ]
     },
     "execution_count": 51,
     "metadata": {},
     "output_type": "execute_result"
    }
   ],
   "source": [
    "c=np.identity(3)\n",
    "np.linalg.det(c)"
   ]
  },
  {
   "cell_type": "markdown",
   "id": "d0a211f4-0363-4aeb-a729-4cfac4017dfe",
   "metadata": {},
   "source": [
    "### solve()\n",
    "to solve system of linear equations\\\n",
    "--> works only for square matrix\\\n",
    "for a matrix with det=0 inv() function will raise LinAlgError exception"
   ]
  },
  {
   "cell_type": "code",
   "execution_count": 49,
   "id": "03693802-8ea8-4173-856d-5cd862a27d08",
   "metadata": {},
   "outputs": [
    {
     "name": "stdout",
     "output_type": "stream",
     "text": [
      "[-2.    2.25]\n"
     ]
    }
   ],
   "source": [
    "# define coefficient matrix A    \n",
    "A=np.array([[2,4],[6,8]])                #2x+4y=5\n",
    "# define the constant vector b           #6x+8y=6\n",
    "b=np.array([5,6])\n",
    "# solve the equations\n",
    "result=np.linalg.solve(A,b)\n",
    "print(result)"
   ]
  },
  {
   "cell_type": "markdown",
   "id": "2f208fa3-04dd-48bd-a850-03a2a367f546",
   "metadata": {},
   "source": [
    "### inv()\n",
    "--> to find inverse of square matrix\\\n",
    "--> for a matrix with det=0 inv() function will raise LinAlgError exception"
   ]
  },
  {
   "cell_type": "code",
   "execution_count": 50,
   "id": "f4001e96-e566-43d3-935e-011c8759c581",
   "metadata": {},
   "outputs": [
    {
     "name": "stdout",
     "output_type": "stream",
     "text": [
      "[[-1.    0.5 ]\n",
      " [ 0.75 -0.25]]\n"
     ]
    }
   ],
   "source": [
    "a=np.array([[2,4],[6,8]])\n",
    "result=np.linalg.inv(a)\n",
    "print(result)"
   ]
  },
  {
   "cell_type": "markdown",
   "id": "3c111db8-605b-48e8-b011-0e3e32bda086",
   "metadata": {},
   "source": [
    "### trace()\n",
    "--> sum of diagonal elements of matrix"
   ]
  },
  {
   "cell_type": "code",
   "execution_count": 54,
   "id": "7e1f2485-858a-4b6e-81b1-ebefc77b71c8",
   "metadata": {},
   "outputs": [
    {
     "name": "stdout",
     "output_type": "stream",
     "text": [
      "[[6 3 5]\n",
      " [9 2 1]\n",
      " [7 8 4]]\n",
      "12\n"
     ]
    }
   ],
   "source": [
    "a=np.array([[6,3,5],[9,2,1],[7,8,4]])\n",
    "print(a)\n",
    "r=np.trace(a)\n",
    "print(r)"
   ]
  },
  {
   "cell_type": "markdown",
   "id": "81503641-b63f-44d1-969a-773d15620834",
   "metadata": {},
   "source": [
    "### transpose()"
   ]
  },
  {
   "cell_type": "code",
   "execution_count": 59,
   "id": "8957f95f-e819-4940-a1ce-f0521685781b",
   "metadata": {},
   "outputs": [
    {
     "name": "stdout",
     "output_type": "stream",
     "text": [
      "[[1 3]\n",
      " [2 4]]\n",
      "[[5 7 8]\n",
      " [6 2 9]]\n"
     ]
    }
   ],
   "source": [
    "a=np.array([[1,2],[3,4]])\n",
    "b=np.array([[5,6],[7,2],[8,9]])\n",
    "r1=np.transpose(a)\n",
    "r2=np.transpose(b)\n",
    "print(r1)\n",
    "print(r2)"
   ]
  },
  {
   "cell_type": "markdown",
   "id": "44ddb3dc-c3eb-4847-bcad-fbbcb94bcbad",
   "metadata": {},
   "source": [
    "### svd()"
   ]
  },
  {
   "cell_type": "code",
   "execution_count": 64,
   "id": "13687e99-6a44-47c3-bb68-ac30e8112b14",
   "metadata": {},
   "outputs": [
    {
     "data": {
      "text/plain": [
       "SVDResult(U=array([[-0.27696153, -0.44020445, -0.85411495],\n",
       "       [-0.69295974, -0.52427824,  0.49491325],\n",
       "       [-0.6656569 ,  0.72893921, -0.15983905]]), S=array([12.41571223,  3.27320231,  0.36910232]), Vh=array([[-0.62085837, -0.48452254, -0.61625709],\n",
       "       [ 0.78371478, -0.40174189, -0.47370307],\n",
       "       [ 0.01805647,  0.7770723 , -0.62915229]]))"
      ]
     },
     "execution_count": 64,
     "metadata": {},
     "output_type": "execute_result"
    }
   ],
   "source": [
    "a=np.array([[1,2,3],[4,5,6],[7,3,4]])\n",
    "np.linalg.svd(a)"
   ]
  },
  {
   "cell_type": "markdown",
   "id": "bf2487ba-cf62-4603-9702-e5fb30835d98",
   "metadata": {},
   "source": [
    "### eigen values and eigen vectors"
   ]
  },
  {
   "cell_type": "code",
   "execution_count": 66,
   "id": "faa6b900-79ec-4e9d-8559-a97abf9a2b08",
   "metadata": {},
   "outputs": [
    {
     "name": "stdout",
     "output_type": "stream",
     "text": [
      "[11.45683654 -2.08483086  0.62799432]\n",
      "\n",
      "\n",
      "[[-0.31195169 -0.51735194  0.09525004]\n",
      " [-0.74323266 -0.36387042 -0.83367823]\n",
      " [-0.59185417  0.77456135  0.5439743 ]]\n"
     ]
    }
   ],
   "source": [
    "(values,vectors)=np.linalg.eig(a)\n",
    "print(values)\n",
    "print('\\n')\n",
    "print(vectors)"
   ]
  },
  {
   "cell_type": "code",
   "execution_count": 67,
   "id": "9bbff74d-3d25-4eac-9312-6f08d24832af",
   "metadata": {},
   "outputs": [
    {
     "data": {
      "text/plain": [
       "12.84523257866513"
      ]
     },
     "execution_count": 67,
     "metadata": {},
     "output_type": "execute_result"
    }
   ],
   "source": [
    "np.linalg.norm(a)"
   ]
  },
  {
   "cell_type": "markdown",
   "id": "ab0b4032-3f92-422e-a60f-d6b75bcfea2f",
   "metadata": {},
   "source": [
    "## Mathematics"
   ]
  },
  {
   "cell_type": "code",
   "execution_count": 69,
   "id": "157ebcd3-89c1-4179-aaa7-da70d582de96",
   "metadata": {},
   "outputs": [
    {
     "name": "stdout",
     "output_type": "stream",
     "text": [
      "[[1 2 3]\n",
      " [4 5 6]]\n",
      "[[2 3 4]\n",
      " [5 6 7]]\n"
     ]
    }
   ],
   "source": [
    "a=np.array([[1,2,3],[4,5,6]])\n",
    "b=np.array([[2,3,4],[5,6,7]])\n",
    "print(a)\n",
    "print(b)"
   ]
  },
  {
   "cell_type": "code",
   "execution_count": 70,
   "id": "1d34096a-2a88-4821-9734-77a6abd6fde2",
   "metadata": {},
   "outputs": [
    {
     "data": {
      "text/plain": [
       "array([[3, 4, 5],\n",
       "       [6, 7, 8]])"
      ]
     },
     "execution_count": 70,
     "metadata": {},
     "output_type": "execute_result"
    }
   ],
   "source": [
    "a+2"
   ]
  },
  {
   "cell_type": "code",
   "execution_count": 71,
   "id": "f9abd001-4ab2-4558-929e-3e9ae3d45591",
   "metadata": {},
   "outputs": [
    {
     "data": {
      "text/plain": [
       "array([[1, 0, 1],\n",
       "       [0, 1, 0]])"
      ]
     },
     "execution_count": 71,
     "metadata": {},
     "output_type": "execute_result"
    }
   ],
   "source": [
    "a%2"
   ]
  },
  {
   "cell_type": "code",
   "execution_count": 72,
   "id": "655ee08d-2778-430a-9053-b1321a332689",
   "metadata": {},
   "outputs": [
    {
     "data": {
      "text/plain": [
       "array([[ 0.84147098,  0.90929743,  0.14112001],\n",
       "       [-0.7568025 , -0.95892427, -0.2794155 ]])"
      ]
     },
     "execution_count": 72,
     "metadata": {},
     "output_type": "execute_result"
    }
   ],
   "source": [
    "np.sin(a)"
   ]
  },
  {
   "cell_type": "code",
   "execution_count": 73,
   "id": "264eff73-dc91-44d2-9c59-5f847fb1dcde",
   "metadata": {},
   "outputs": [
    {
     "data": {
      "text/plain": [
       "array([[-0.41614684, -0.9899925 , -0.65364362],\n",
       "       [ 0.28366219,  0.96017029,  0.75390225]])"
      ]
     },
     "execution_count": 73,
     "metadata": {},
     "output_type": "execute_result"
    }
   ],
   "source": [
    "np.cos(b)"
   ]
  },
  {
   "cell_type": "code",
   "execution_count": 75,
   "id": "da7c3a9e-a804-42d4-a967-b8742327605f",
   "metadata": {},
   "outputs": [
    {
     "data": {
      "text/plain": [
       "array([[ 1,  4,  9],\n",
       "       [16, 25, 36]])"
      ]
     },
     "execution_count": 75,
     "metadata": {},
     "output_type": "execute_result"
    }
   ],
   "source": [
    "np.power(a,2)"
   ]
  },
  {
   "cell_type": "code",
   "execution_count": 79,
   "id": "20cf6ccd-08ff-4ff7-9a9b-577e26890e66",
   "metadata": {},
   "outputs": [
    {
     "data": {
      "text/plain": [
       "array([[  2.71828183,   7.3890561 ,  20.08553692],\n",
       "       [ 54.59815003, 148.4131591 , 403.42879349]])"
      ]
     },
     "execution_count": 79,
     "metadata": {},
     "output_type": "execute_result"
    }
   ],
   "source": [
    "np.exp(a) # e**number where e=2.71828"
   ]
  },
  {
   "cell_type": "code",
   "execution_count": 81,
   "id": "0c80f2ee-ff85-4167-9325-9f02360363c6",
   "metadata": {},
   "outputs": [
    {
     "data": {
      "text/plain": [
       "array([[0.        , 0.69314718, 1.09861229],\n",
       "       [1.38629436, 1.60943791, 1.79175947]])"
      ]
     },
     "execution_count": 81,
     "metadata": {},
     "output_type": "execute_result"
    }
   ],
   "source": [
    "np.log(a)"
   ]
  },
  {
   "cell_type": "code",
   "execution_count": 85,
   "id": "8ef47c59-cd4f-4cda-a113-18cae1434dad",
   "metadata": {},
   "outputs": [
    {
     "data": {
      "text/plain": [
       "array([[12, 15],\n",
       "       [33, 42]])"
      ]
     },
     "execution_count": 85,
     "metadata": {},
     "output_type": "execute_result"
    }
   ],
   "source": [
    "#matrix multiplication\n",
    "a=np.array([[1,2],[4,5]])\n",
    "b=np.array([[2,3],[5,6]])\n",
    "a@b"
   ]
  },
  {
   "cell_type": "code",
   "execution_count": 87,
   "id": "9b47d7a7-d44e-4389-a459-d97ebd782065",
   "metadata": {},
   "outputs": [
    {
     "data": {
      "text/plain": [
       "array([[12, 15],\n",
       "       [33, 42]])"
      ]
     },
     "execution_count": 87,
     "metadata": {},
     "output_type": "execute_result"
    }
   ],
   "source": [
    "np.matmul(a,b)"
   ]
  },
  {
   "cell_type": "markdown",
   "id": "bbfafa3a-5405-4c2e-b1fd-c990935ee7b9",
   "metadata": {},
   "source": [
    "# Statistics\n",
    "## min , max , sum , mean , median , std , var "
   ]
  },
  {
   "cell_type": "code",
   "execution_count": 102,
   "id": "ed33b9c1-d1ca-4200-8eb9-18f9523200af",
   "metadata": {},
   "outputs": [
    {
     "name": "stdout",
     "output_type": "stream",
     "text": [
      "[[ 2 10  7 10  6]\n",
      " [ 8  8  5  9  6]\n",
      " [ 4  6  2  6  4]]\n"
     ]
    }
   ],
   "source": [
    "a=np.random.randint(2,11,size=(3,5))\n",
    "print(a)"
   ]
  },
  {
   "cell_type": "code",
   "execution_count": 103,
   "id": "b3601be3-3141-465d-b0b0-553cf0346aa9",
   "metadata": {},
   "outputs": [
    {
     "data": {
      "text/plain": [
       "2"
      ]
     },
     "execution_count": 103,
     "metadata": {},
     "output_type": "execute_result"
    }
   ],
   "source": [
    "np.min(a)"
   ]
  },
  {
   "cell_type": "code",
   "execution_count": 105,
   "id": "2bb103cf-7521-4aa7-93e2-178669221034",
   "metadata": {},
   "outputs": [
    {
     "data": {
      "text/plain": [
       "array([2, 6, 2, 6, 4])"
      ]
     },
     "execution_count": 105,
     "metadata": {},
     "output_type": "execute_result"
    }
   ],
   "source": [
    "np.min(a,axis=0) # columns"
   ]
  },
  {
   "cell_type": "code",
   "execution_count": 106,
   "id": "e68f3582-c022-4892-ab90-ead1a6111d24",
   "metadata": {},
   "outputs": [
    {
     "data": {
      "text/plain": [
       "array([2, 5, 2])"
      ]
     },
     "execution_count": 106,
     "metadata": {},
     "output_type": "execute_result"
    }
   ],
   "source": [
    "np.min(a,axis=1) # rows"
   ]
  },
  {
   "cell_type": "code",
   "execution_count": 107,
   "id": "19526a16-f4ef-4e84-8ff3-a8001bbefe68",
   "metadata": {},
   "outputs": [
    {
     "data": {
      "text/plain": [
       "10"
      ]
     },
     "execution_count": 107,
     "metadata": {},
     "output_type": "execute_result"
    }
   ],
   "source": [
    "np.max(a)"
   ]
  },
  {
   "cell_type": "code",
   "execution_count": 108,
   "id": "be58f127-e3e5-4c4f-9256-ad9638151dd6",
   "metadata": {},
   "outputs": [
    {
     "data": {
      "text/plain": [
       "array([ 8, 10,  7, 10,  6])"
      ]
     },
     "execution_count": 108,
     "metadata": {},
     "output_type": "execute_result"
    }
   ],
   "source": [
    "np.max(a,axis=0)"
   ]
  },
  {
   "cell_type": "code",
   "execution_count": 109,
   "id": "869c659b-c282-4d45-a4d4-830315806efe",
   "metadata": {},
   "outputs": [
    {
     "data": {
      "text/plain": [
       "array([10,  9,  6])"
      ]
     },
     "execution_count": 109,
     "metadata": {},
     "output_type": "execute_result"
    }
   ],
   "source": [
    "np.max(a,axis=1)"
   ]
  },
  {
   "cell_type": "code",
   "execution_count": 110,
   "id": "4654e0a2-0618-4b31-bd1b-f370705f48a3",
   "metadata": {},
   "outputs": [
    {
     "data": {
      "text/plain": [
       "93"
      ]
     },
     "execution_count": 110,
     "metadata": {},
     "output_type": "execute_result"
    }
   ],
   "source": [
    "np.sum(a)"
   ]
  },
  {
   "cell_type": "code",
   "execution_count": 111,
   "id": "408ac59a-9f71-4ecc-a002-1ca9463960a7",
   "metadata": {},
   "outputs": [
    {
     "data": {
      "text/plain": [
       "array([14, 24, 14, 25, 16])"
      ]
     },
     "execution_count": 111,
     "metadata": {},
     "output_type": "execute_result"
    }
   ],
   "source": [
    "np.sum(a,axis=0)"
   ]
  },
  {
   "cell_type": "code",
   "execution_count": 112,
   "id": "8c91e4af-36c6-437c-85d2-d036ab5b2124",
   "metadata": {},
   "outputs": [
    {
     "data": {
      "text/plain": [
       "array([35, 36, 22])"
      ]
     },
     "execution_count": 112,
     "metadata": {},
     "output_type": "execute_result"
    }
   ],
   "source": [
    "np.sum(a,axis=1)"
   ]
  },
  {
   "cell_type": "code",
   "execution_count": 113,
   "id": "8f44d1c0-a02d-4f41-ad04-8ecd0a6f11a5",
   "metadata": {},
   "outputs": [
    {
     "data": {
      "text/plain": [
       "6.2"
      ]
     },
     "execution_count": 113,
     "metadata": {},
     "output_type": "execute_result"
    }
   ],
   "source": [
    "np.mean(a)"
   ]
  },
  {
   "cell_type": "code",
   "execution_count": 114,
   "id": "8b66363d-11dd-485d-95a2-cd43de2eaeaf",
   "metadata": {},
   "outputs": [
    {
     "data": {
      "text/plain": [
       "array([4.66666667, 8.        , 4.66666667, 8.33333333, 5.33333333])"
      ]
     },
     "execution_count": 114,
     "metadata": {},
     "output_type": "execute_result"
    }
   ],
   "source": [
    "np.mean(a,axis=0)"
   ]
  },
  {
   "cell_type": "code",
   "execution_count": 115,
   "id": "6632fc2c-cfa5-4c83-8daa-141bfd48e291",
   "metadata": {},
   "outputs": [
    {
     "data": {
      "text/plain": [
       "array([7. , 7.2, 4.4])"
      ]
     },
     "execution_count": 115,
     "metadata": {},
     "output_type": "execute_result"
    }
   ],
   "source": [
    "np.mean(a,axis=1)"
   ]
  },
  {
   "cell_type": "code",
   "execution_count": 116,
   "id": "8aec7df9-6916-4601-b60c-d3c6de364976",
   "metadata": {},
   "outputs": [
    {
     "data": {
      "text/plain": [
       "6.0"
      ]
     },
     "execution_count": 116,
     "metadata": {},
     "output_type": "execute_result"
    }
   ],
   "source": [
    "np.median(a)"
   ]
  },
  {
   "cell_type": "code",
   "execution_count": 117,
   "id": "daf32f1d-82e1-4e25-97a8-95c041a93aba",
   "metadata": {},
   "outputs": [
    {
     "data": {
      "text/plain": [
       "array([4., 8., 5., 9., 6.])"
      ]
     },
     "execution_count": 117,
     "metadata": {},
     "output_type": "execute_result"
    }
   ],
   "source": [
    "np.median(a,axis=0)"
   ]
  },
  {
   "cell_type": "code",
   "execution_count": 118,
   "id": "9bf67736-5cf9-44ac-813d-ec9203ddb760",
   "metadata": {},
   "outputs": [
    {
     "data": {
      "text/plain": [
       "array([7., 8., 4.])"
      ]
     },
     "execution_count": 118,
     "metadata": {},
     "output_type": "execute_result"
    }
   ],
   "source": [
    "np.median(a,axis=1)"
   ]
  },
  {
   "cell_type": "code",
   "execution_count": 120,
   "id": "86b41d06-70f9-42e0-b9ca-df07927606a5",
   "metadata": {},
   "outputs": [
    {
     "data": {
      "text/plain": [
       "2.4549270186029295"
      ]
     },
     "execution_count": 120,
     "metadata": {},
     "output_type": "execute_result"
    }
   ],
   "source": [
    "np.std(a)"
   ]
  },
  {
   "cell_type": "code",
   "execution_count": 121,
   "id": "272187f5-b0c8-4389-a741-d61437d1e514",
   "metadata": {},
   "outputs": [
    {
     "data": {
      "text/plain": [
       "array([2.49443826, 1.63299316, 2.05480467, 1.69967317, 0.94280904])"
      ]
     },
     "execution_count": 121,
     "metadata": {},
     "output_type": "execute_result"
    }
   ],
   "source": [
    "np.std(a,axis=0)"
   ]
  },
  {
   "cell_type": "code",
   "execution_count": 122,
   "id": "e3875e9d-f48e-4a24-b09b-a9520fca4317",
   "metadata": {},
   "outputs": [
    {
     "data": {
      "text/plain": [
       "array([2.96647939, 1.46969385, 1.49666295])"
      ]
     },
     "execution_count": 122,
     "metadata": {},
     "output_type": "execute_result"
    }
   ],
   "source": [
    "np.std(a,axis=1)"
   ]
  },
  {
   "cell_type": "code",
   "execution_count": 123,
   "id": "05dffdb1-7c1b-47c0-85cb-e90f0ec3a363",
   "metadata": {},
   "outputs": [
    {
     "data": {
      "text/plain": [
       "6.026666666666667"
      ]
     },
     "execution_count": 123,
     "metadata": {},
     "output_type": "execute_result"
    }
   ],
   "source": [
    "np.var(a)"
   ]
  },
  {
   "cell_type": "code",
   "execution_count": 124,
   "id": "2e77dcf0-435b-4a4a-b70f-b17cbeb74bcb",
   "metadata": {},
   "outputs": [
    {
     "data": {
      "text/plain": [
       "array([6.22222222, 2.66666667, 4.22222222, 2.88888889, 0.88888889])"
      ]
     },
     "execution_count": 124,
     "metadata": {},
     "output_type": "execute_result"
    }
   ],
   "source": [
    "np.var(a,axis=0)"
   ]
  },
  {
   "cell_type": "code",
   "execution_count": 125,
   "id": "b2f985bb-bc80-4043-b62a-6bb04af5198f",
   "metadata": {},
   "outputs": [
    {
     "data": {
      "text/plain": [
       "array([8.8 , 2.16, 2.24])"
      ]
     },
     "execution_count": 125,
     "metadata": {},
     "output_type": "execute_result"
    }
   ],
   "source": [
    "np.var(a,axis=1)"
   ]
  },
  {
   "cell_type": "markdown",
   "id": "4ed83433-74f7-40e4-abd6-136218cd3c5c",
   "metadata": {},
   "source": [
    "# Loading data from file"
   ]
  },
  {
   "cell_type": "code",
   "execution_count": 130,
   "id": "54923379-cf38-451b-b0d5-0228c6138644",
   "metadata": {},
   "outputs": [
    {
     "data": {
      "text/plain": [
       "array([[ 1,  2,  3,  4,  5,  6,  7,  8,  9, 10],\n",
       "       [11, 12, 13, 14, 15, 16, 17, 18, 19, 20],\n",
       "       [21, 22, 23, 24, 25, 26, 27, 28, 29, 30]])"
      ]
     },
     "execution_count": 130,
     "metadata": {},
     "output_type": "execute_result"
    }
   ],
   "source": [
    "f=np.genfromtxt(\"/home/apiiit123/Videos/ml_learning_algorithms_krishnaik/python_libraries/sample.txt\",delimiter=',',dtype='int')\n",
    "f"
   ]
  },
  {
   "cell_type": "markdown",
   "id": "7aefd86f-ba7c-4c22-b22b-97b4b77eaa2e",
   "metadata": {},
   "source": [
    "# Advanced Indexing and Boolean Masking"
   ]
  },
  {
   "cell_type": "code",
   "execution_count": 131,
   "id": "f3d61b43-1e86-43d8-a446-7043eaa2c5ef",
   "metadata": {},
   "outputs": [
    {
     "data": {
      "text/plain": [
       "array([[False, False, False, False, False, False, False, False, False,\n",
       "        False],\n",
       "       [False, False, False, False, False, False, False,  True,  True,\n",
       "         True],\n",
       "       [ True,  True,  True,  True,  True,  True,  True,  True,  True,\n",
       "         True]])"
      ]
     },
     "execution_count": 131,
     "metadata": {},
     "output_type": "execute_result"
    }
   ],
   "source": [
    "filedata=f\n",
    "filedata>17"
   ]
  },
  {
   "cell_type": "code",
   "execution_count": 134,
   "id": "de065fd1-606d-4baf-bc5c-232dcdd76e5d",
   "metadata": {},
   "outputs": [
    {
     "data": {
      "text/plain": [
       "array([18, 19, 20, 21, 22, 23, 24, 25, 26, 27, 28, 29, 30])"
      ]
     },
     "execution_count": 134,
     "metadata": {},
     "output_type": "execute_result"
    }
   ],
   "source": [
    "filedata[filedata>17]"
   ]
  },
  {
   "cell_type": "markdown",
   "id": "2eb72181-584d-44e7-adac-3d32511dcf61",
   "metadata": {},
   "source": [
    "### we can index with a list in numpy"
   ]
  },
  {
   "cell_type": "code",
   "execution_count": 135,
   "id": "34999204-dcd8-4cb8-887a-ca79d38115e0",
   "metadata": {},
   "outputs": [
    {
     "data": {
      "text/plain": [
       "array([2, 3, 9])"
      ]
     },
     "execution_count": 135,
     "metadata": {},
     "output_type": "execute_result"
    }
   ],
   "source": [
    "a=np.array([1,2,3,4,5,6,7,8,9])\n",
    "a[[1,2,8]]"
   ]
  },
  {
   "cell_type": "code",
   "execution_count": 137,
   "id": "ac0daf13-a041-421a-9608-843e51565441",
   "metadata": {},
   "outputs": [
    {
     "data": {
      "text/plain": [
       "array([ True,  True,  True,  True,  True,  True,  True,  True,  True,\n",
       "        True])"
      ]
     },
     "execution_count": 137,
     "metadata": {},
     "output_type": "execute_result"
    }
   ],
   "source": [
    "np.any(filedata>17,axis=0)"
   ]
  },
  {
   "cell_type": "code",
   "execution_count": 138,
   "id": "ecdcf9cf-598f-4fed-b930-4bf443ebc4d3",
   "metadata": {},
   "outputs": [
    {
     "data": {
      "text/plain": [
       "array([False, False, False, False, False, False, False, False,  True,\n",
       "        True])"
      ]
     },
     "execution_count": 138,
     "metadata": {},
     "output_type": "execute_result"
    }
   ],
   "source": [
    "np.all(filedata>8,axis=0)"
   ]
  },
  {
   "cell_type": "markdown",
   "id": "98e157e7-d1c3-4296-a15f-8404e06cb089",
   "metadata": {},
   "source": [
    "### special indexing"
   ]
  },
  {
   "cell_type": "code",
   "execution_count": 147,
   "id": "e5c4eae9-f3e4-4dcd-a7dd-52bbe57d1559",
   "metadata": {},
   "outputs": [
    {
     "name": "stdout",
     "output_type": "stream",
     "text": [
      "[[1 1 1 1 1]\n",
      " [1 1 1 1 1]\n",
      " [1 1 1 1 1]\n",
      " [1 1 1 1 1]\n",
      " [1 1 1 1 1]]\n",
      "[[0 0 0]\n",
      " [0 9 0]\n",
      " [0 0 0]]\n"
     ]
    }
   ],
   "source": [
    "a=np.ones((5,5),dtype='int')\n",
    "print(a)\n",
    "ins=np.zeros((3,3),dtype='int')\n",
    "ins[1,1]=9\n",
    "print(ins)"
   ]
  },
  {
   "cell_type": "code",
   "execution_count": 158,
   "id": "0dbe3708-683e-4a00-a6cc-20171a418f9c",
   "metadata": {},
   "outputs": [
    {
     "data": {
      "text/plain": [
       "array([[1, 1, 1, 1, 1],\n",
       "       [1, 0, 0, 0, 1],\n",
       "       [1, 0, 9, 0, 1],\n",
       "       [1, 0, 0, 0, 1],\n",
       "       [1, 1, 1, 1, 1]])"
      ]
     },
     "execution_count": 158,
     "metadata": {},
     "output_type": "execute_result"
    }
   ],
   "source": [
    "a[1:4:,1:4:]=ins\n",
    "a"
   ]
  },
  {
   "cell_type": "code",
   "execution_count": null,
   "id": "87d82fc4-8e5c-4087-8ecb-0b3c5813e37c",
   "metadata": {},
   "outputs": [],
   "source": []
  }
 ],
 "metadata": {
  "kernelspec": {
   "display_name": "Python 3 (ipykernel)",
   "language": "python",
   "name": "python3"
  },
  "language_info": {
   "codemirror_mode": {
    "name": "ipython",
    "version": 3
   },
   "file_extension": ".py",
   "mimetype": "text/x-python",
   "name": "python",
   "nbconvert_exporter": "python",
   "pygments_lexer": "ipython3",
   "version": "3.10.12"
  }
 },
 "nbformat": 4,
 "nbformat_minor": 5
}
